{
 "cells": [
  {
   "cell_type": "markdown",
   "id": "20428aad-9735-4e47-9f20-bfade6a2afed",
   "metadata": {},
   "source": [
    "# Module-3"
   ]
  },
  {
   "cell_type": "markdown",
   "id": "1056cb6d-6d6d-4000-8b15-1275e264a12c",
   "metadata": {},
   "source": [
    "### Q:1 What is List? How will you reverse a list?"
   ]
  },
  {
   "cell_type": "markdown",
   "id": "0a772248-d6e0-4f2f-b49d-fc9c302c5461",
   "metadata": {},
   "source": [
    "#### * The list is a sequence data type which is used to store the collection of data.\n",
    "#### * Lists are mutable, and hence, they can be altered even after their creation.\n",
    "## Reversing list :\n",
    "#### * reverse() is an inbuilt method in the Python programming language that reverses objects of the List in place.\n",
    "#### Syntax: list_name.reverse()\n",
    "#### Parameters: There are no parameters.\n",
    "#### Returns: The reverse() method does not return any value but reverses the given object from the list."
   ]
  },
  {
   "cell_type": "markdown",
   "id": "e017b34b-55b2-4275-a53e-b3741f5d64ee",
   "metadata": {},
   "source": [
    "### Q:2 How will you remove last object from a list?"
   ]
  },
  {
   "cell_type": "code",
   "execution_count": 13,
   "id": "67629a14-5fd4-471d-8761-47e5b98309e4",
   "metadata": {},
   "outputs": [
    {
     "name": "stdout",
     "output_type": "stream",
     "text": [
      "['hello', 'world', 'from', 'python']\n",
      "removed object from list is: one\n"
     ]
    }
   ],
   "source": [
    "a = [\"hello\",\"world\",\"from\",\"python\",\"one\"]\n",
    "b= a.pop()\n",
    "print(a)\n",
    "print(\"removed object from list is:\",b)"
   ]
  },
  {
   "cell_type": "markdown",
   "id": "173ac974-05e5-4e1e-adda-da5b9b0d57cd",
   "metadata": {},
   "source": [
    "### Q:3 Suppose list1 is [2, 33, 222, 14, and 25], what is list1 [-1]?"
   ]
  },
  {
   "cell_type": "code",
   "execution_count": 14,
   "id": "84a86ce0-3c77-4050-bb0d-dbde1a5536ad",
   "metadata": {},
   "outputs": [
    {
     "name": "stdout",
     "output_type": "stream",
     "text": [
      "25\n"
     ]
    }
   ],
   "source": [
    "a=[2,33,222,14,25]\n",
    "print(a[-1])"
   ]
  },
  {
   "cell_type": "markdown",
   "id": "ea9b192a-c0f8-478a-82a5-bbd369490551",
   "metadata": {},
   "source": [
    "### Q:4 Differentiate between append () and extend () methods?"
   ]
  },
  {
   "cell_type": "markdown",
   "id": "f7f84843-35f8-4480-80bf-7a4e561e22e1",
   "metadata": {},
   "source": [
    "#### append() adds its argument as a single element to the end of the list, while extend() iterates over its argument adding each element to the list, extending the list.\n",
    "#### append() is used to add a single element at the end, whereas extend() is used to extend the list by appending elements from the iterable."
   ]
  },
  {
   "cell_type": "code",
   "execution_count": 6,
   "id": "254caad2-f567-453f-8a09-a035d74ac9bf",
   "metadata": {},
   "outputs": [
    {
     "name": "stdout",
     "output_type": "stream",
     "text": [
      "This is appended list ['a', 'b', 'c', 'd', 'e']\n",
      "This is extended list ['h', 'i', 'g', 'o', 'o', 'd', 'm', 'o', 'r', 'n', 'i', 'n', 'g']\n"
     ]
    }
   ],
   "source": [
    "# Example of append:\n",
    "a= [\"a\",\"b\",\"c\",\"d\"]\n",
    "a.append(\"e\")\n",
    "print(\"This is appended list\",a)\n",
    "\n",
    "# Example of extend:\n",
    "x= [\"h\",\"i\",\"g\",\"o\",\"o\",\"d\"]\n",
    "x.extend([\"m\",\"o\",\"r\",\"n\",\"i\",\"n\",\"g\"])\n",
    "print(\"This is extended list\",x)"
   ]
  },
  {
   "cell_type": "markdown",
   "id": "3526f712-dadb-4297-a89e-6590be00d2fb",
   "metadata": {},
   "source": [
    "### Q:5 Write a Python function to get the largest number, smallest num and sum of all from a list."
   ]
  },
  {
   "cell_type": "code",
   "execution_count": 19,
   "id": "f3eac813-0a21-4a1b-9adc-11faa87b747a",
   "metadata": {},
   "outputs": [
    {
     "name": "stdout",
     "output_type": "stream",
     "text": [
      "Largest number: 9\n",
      "Smallest number: 1\n",
      "Sum of all numbers: 24\n"
     ]
    }
   ],
   "source": [
    "def get_stats(numbers):\n",
    "    if not numbers:\n",
    "        return None, None, 0  # Handle empty list case\n",
    "    \n",
    "    # Initialize variables to store largest, smallest, and sum\n",
    "    largest = numbers[0]\n",
    "    smallest = numbers[0]\n",
    "    total_sum = 0\n",
    "    \n",
    "    # Iterate through the list to find largest, smallest, and sum\n",
    "    for num in numbers:\n",
    "        total_sum += num\n",
    "        \n",
    "        if num > largest:\n",
    "            largest = num\n",
    "        \n",
    "        if num < smallest:\n",
    "            smallest = num\n",
    "    \n",
    "    return largest, smallest, total_sum\n",
    "\n",
    "# Example usage:\n",
    "my_list = [5, 2, 9, 1, 7]\n",
    "largest_num, smallest_num, total_sum = get_stats(my_list)\n",
    "\n",
    "print(f\"Largest number: {largest_num}\")\n",
    "print(f\"Smallest number: {smallest_num}\")\n",
    "print(f\"Sum of all numbers: {total_sum}\")\n"
   ]
  },
  {
   "cell_type": "markdown",
   "id": "b84570ac-6ba7-4ac7-8463-c33a60f6c3d0",
   "metadata": {},
   "source": [
    "### Q:6 How will you compare two lists?"
   ]
  },
  {
   "cell_type": "code",
   "execution_count": 21,
   "id": "3fce677e-d882-4e49-ba6c-36f8a7345f76",
   "metadata": {},
   "outputs": [
    {
     "name": "stdout",
     "output_type": "stream",
     "text": [
      "List is unequal\n"
     ]
    }
   ],
   "source": [
    "a=[\"a\",\"b\",1,2]\n",
    "b=[\"a\",\"b\",2,2]\n",
    "if a==b :\n",
    "    print(\"List is equal\")\n",
    "else:\n",
    "    print(\"List is unequal\")"
   ]
  },
  {
   "cell_type": "markdown",
   "id": "fbc0996d-ed9e-4c7b-a0f9-3bc218bd9a30",
   "metadata": {},
   "source": [
    "### Q:7 Write a Python program to count the number of strings where the string length is 2 or more and the first and last character are same from a given list of strings."
   ]
  },
  {
   "cell_type": "code",
   "execution_count": 1,
   "id": "da0b80f1-11f4-400e-9378-09aab9ed2a1d",
   "metadata": {},
   "outputs": [
    {
     "name": "stdout",
     "output_type": "stream",
     "text": [
      "Number of strings where the first and last character are same: 3\n"
     ]
    }
   ],
   "source": [
    "def count_strings(strings):\n",
    "    count = 0\n",
    "    for s in strings:\n",
    "        if len(s) >= 2 and s[0] == s[-1]:\n",
    "            count += 1\n",
    "    return count\n",
    "\n",
    "# Example usage:\n",
    "string_list = [\"abc\", \"xyz\", \"aba\", \"1221\", \"abba\"]\n",
    "result = count_strings(string_list)\n",
    "print(\"Number of strings where the first and last character are same:\", result)\n"
   ]
  },
  {
   "cell_type": "markdown",
   "id": "8efa4b79-75e1-4e81-a0c4-e07445b19f1b",
   "metadata": {},
   "source": [
    "### Q:8 Write a Python program to remove duplicates from a list."
   ]
  },
  {
   "cell_type": "code",
   "execution_count": 3,
   "id": "126e6117-d9ea-452b-a06e-c47aede729fa",
   "metadata": {},
   "outputs": [
    {
     "data": {
      "text/plain": [
       "['a', 'b', 'c', 'D']"
      ]
     },
     "execution_count": 3,
     "metadata": {},
     "output_type": "execute_result"
    }
   ],
   "source": [
    "a =[\"a\",\"b\",\"c\",\"D\",\"a\",\"D\"]\n",
    "b= list(dict.fromkeys(a))\n",
    "b"
   ]
  },
  {
   "cell_type": "markdown",
   "id": "305bb2b4-6ce3-4785-9efe-7bf314616384",
   "metadata": {},
   "source": [
    "### Q:9 Write a Python program to check a list is empty or not."
   ]
  },
  {
   "cell_type": "code",
   "execution_count": 1,
   "id": "913c83f7-997b-4f2c-aec8-dd13e6ba6252",
   "metadata": {},
   "outputs": [
    {
     "name": "stdout",
     "output_type": "stream",
     "text": [
      "Is list1 empty? True\n",
      "Is list2 empty? False\n"
     ]
    }
   ],
   "source": [
    "def is_empty(lst):\n",
    "    if not lst:\n",
    "        return True\n",
    "    else:\n",
    "        return False\n",
    "\n",
    "# Example usage:\n",
    "list1 = []\n",
    "list2 = [1, 2, 3]\n",
    "\n",
    "print(f\"Is list1 empty? {is_empty(list1)}\")  # Output: Is list1 empty? True\n",
    "print(f\"Is list2 empty? {is_empty(list2)}\")  # Output: Is list2 empty? False\n"
   ]
  },
  {
   "cell_type": "markdown",
   "id": "94553590-81d7-4561-88c3-36720f2036be",
   "metadata": {},
   "source": [
    "### Q:10 Write a Python function that takes two lists and returns true if they have at least one common member."
   ]
  },
  {
   "cell_type": "code",
   "execution_count": 6,
   "id": "ed8f31cc-a5c4-4b8e-b62f-21c8852eabd9",
   "metadata": {},
   "outputs": [
    {
     "name": "stdout",
     "output_type": "stream",
     "text": [
      "True\n",
      "False\n"
     ]
    }
   ],
   "source": [
    "def have_common_member(list1, list2):\n",
    "    # Convert lists to sets\n",
    "    set1 = set(list1)\n",
    "    set2 = set(list2)\n",
    "    \n",
    "    # Check if there is any intersection between the two sets\n",
    "    if set1.intersection(set2):\n",
    "        return True\n",
    "    else:\n",
    "        return False\n",
    "\n",
    "# Example usage\n",
    "list1 = [1, 2, 3, 4, 5]\n",
    "list2 = [5, 6, 7, 8, 9]\n",
    "print(have_common_member(list1, list2))  # Output: True\n",
    "\n",
    "list3 = [1, 2, 3]\n",
    "list4 = [4, 5, 6]\n",
    "print(have_common_member(list3, list4))  # Output: False\n",
    "\n"
   ]
  },
  {
   "cell_type": "markdown",
   "id": "c1e77843-458d-44ac-9ca7-5a6fd403f0b0",
   "metadata": {},
   "source": [
    "### Q:11 Write a Python program to generate and print a list of first and last 5 elements where the values are square of numbers between 1 and 30"
   ]
  },
  {
   "cell_type": "code",
   "execution_count": 7,
   "id": "e2a57a72-948a-445a-b5ba-6ab2e8168bcd",
   "metadata": {},
   "outputs": [
    {
     "name": "stdout",
     "output_type": "stream",
     "text": [
      "First 5 elements:\n",
      "[1, 4, 9, 16, 25]\n",
      "\n",
      "Last 5 elements:\n",
      "[676, 729, 784, 841, 900]\n"
     ]
    }
   ],
   "source": [
    "def generate_squares():\n",
    "    squares_list = [x**2 for x in range(1, 31)]\n",
    "    return squares_list\n",
    "\n",
    "def main():\n",
    "    squares_list = generate_squares()\n",
    "    first_5 = squares_list[:5]\n",
    "    last_5 = squares_list[-5:]\n",
    "\n",
    "    print(\"First 5 elements:\")\n",
    "    print(first_5)\n",
    "\n",
    "    print(\"\\nLast 5 elements:\")\n",
    "    print(last_5)\n",
    "\n",
    "if __name__ == \"__main__\":\n",
    "    main()\n"
   ]
  },
  {
   "cell_type": "markdown",
   "id": "452976a0-5b20-49db-a529-dd75268703c8",
   "metadata": {},
   "source": [
    "### Q:12 Write a Python function that takes a list and returns a new list with unique elements of the first list."
   ]
  },
  {
   "cell_type": "code",
   "execution_count": 16,
   "id": "f9795712-c3fb-4041-b18d-22ff18830043",
   "metadata": {},
   "outputs": [
    {
     "name": "stdout",
     "output_type": "stream",
     "text": [
      "Original List: [1, 2, 2, 3, 4, 4, 5]\n",
      "List with Unique Elements: [1, 2, 3, 4, 5]\n"
     ]
    }
   ],
   "source": [
    "def unique_elements(input_list):\n",
    "    # Using set to get unique elements, then converting back to list\n",
    "    unique_list = list(set(input_list))\n",
    "    return unique_list\n",
    "\n",
    "# Example usage:\n",
    "original_list = [1, 2, 2, 3, 4, 4, 5]\n",
    "result_list = unique_elements(original_list)\n",
    "print(\"Original List:\", original_list)\n",
    "print(\"List with Unique Elements:\", result_list)\n",
    "\n"
   ]
  },
  {
   "cell_type": "markdown",
   "id": "73576fd4-52f1-4ebd-be06-6145cf06434d",
   "metadata": {},
   "source": [
    "### Q:13 Write a Python program to convert a list of characters into a string."
   ]
  },
  {
   "cell_type": "code",
   "execution_count": 17,
   "id": "ec377a7c-f880-474f-b471-ceb8e728c808",
   "metadata": {},
   "outputs": [
    {
     "name": "stdout",
     "output_type": "stream",
     "text": [
      "List of Characters: ['H', 'e', 'l', 'l', 'o']\n",
      "Resulting String: Hello\n"
     ]
    }
   ],
   "source": [
    "def list_to_string(char_list):\n",
    "    # Joining the characters in the list to form a string\n",
    "    string_result = ''.join(char_list)\n",
    "    return string_result\n",
    "\n",
    "# Example usage:\n",
    "characters = ['H', 'e', 'l', 'l', 'o']\n",
    "result_string = list_to_string(characters)\n",
    "print(\"List of Characters:\", characters)\n",
    "print(\"Resulting String:\", result_string)\n"
   ]
  },
  {
   "cell_type": "markdown",
   "id": "ebe4b8ff-2a6e-4437-a809-8a4fcc4338bf",
   "metadata": {},
   "source": [
    "### Q:14 Write a Python program to select an item randomly from a list"
   ]
  },
  {
   "cell_type": "code",
   "execution_count": 18,
   "id": "dd16349e-1f22-4169-a331-fed20f922ae7",
   "metadata": {},
   "outputs": [
    {
     "name": "stdout",
     "output_type": "stream",
     "text": [
      "Original List: [1, 2, 3, 4, 5]\n",
      "Randomly Selected Item: 1\n"
     ]
    }
   ],
   "source": [
    "import random\n",
    "\n",
    "def random_item_from_list(input_list):\n",
    "    # Using random.choice to select a random item from the list\n",
    "    random_item = random.choice(input_list)\n",
    "    return random_item\n",
    "\n",
    "# Example usage:\n",
    "my_list = [1, 2, 3, 4, 5]\n",
    "random_item = random_item_from_list(my_list)\n",
    "print(\"Original List:\", my_list)\n",
    "print(\"Randomly Selected Item:\", random_item)\n"
   ]
  },
  {
   "cell_type": "markdown",
   "id": "23909c88-c692-49ed-898f-c9a09431bf3c",
   "metadata": {},
   "source": [
    "### Q:15 Write a Python program to find the second smallest number in a list."
   ]
  },
  {
   "cell_type": "code",
   "execution_count": 19,
   "id": "2334c9d8-8c63-4997-a4e5-17258fe733c1",
   "metadata": {},
   "outputs": [
    {
     "name": "stdout",
     "output_type": "stream",
     "text": [
      "Original List: [12, 45, 2, 41, 31, 10, 8, 6]\n",
      "Second smallest number: 6\n"
     ]
    }
   ],
   "source": [
    "def second_smallest_number(nums):\n",
    "    if len(nums) < 2:\n",
    "        return \"List should have at least two elements\"\n",
    "\n",
    "    smallest = float('inf')\n",
    "    second_smallest = float('inf')\n",
    "\n",
    "    for num in nums:\n",
    "        if num < smallest:\n",
    "            second_smallest = smallest\n",
    "            smallest = num\n",
    "        elif num < second_smallest and num != smallest:\n",
    "            second_smallest = num\n",
    "\n",
    "    return second_smallest\n",
    "\n",
    "# Example usage:\n",
    "my_list = [12, 45, 2, 41, 31, 10, 8, 6]\n",
    "result = second_smallest_number(my_list)\n",
    "print(\"Original List:\", my_list)\n",
    "print(\"Second smallest number:\", result)\n"
   ]
  },
  {
   "cell_type": "markdown",
   "id": "44754c7f-15c1-4137-acfe-adc5e82d3d8f",
   "metadata": {},
   "source": [
    "### Q:16 Write a Python program to get unique values from a list"
   ]
  },
  {
   "cell_type": "code",
   "execution_count": 20,
   "id": "28a62c20-7352-4cbe-9269-5b2ad3c51df3",
   "metadata": {},
   "outputs": [
    {
     "name": "stdout",
     "output_type": "stream",
     "text": [
      "Original List: [1, 2, 3, 2, 4, 5, 3, 6, 1]\n",
      "Unique Values: [1, 2, 3, 4, 5, 6]\n"
     ]
    }
   ],
   "source": [
    "def get_unique_values(input_list):\n",
    "    # Using set to get unique values, then converting back to list\n",
    "    unique_values = list(set(input_list))\n",
    "    return unique_values\n",
    "\n",
    "# Example usage:\n",
    "my_list = [1, 2, 3, 2, 4, 5, 3, 6, 1]\n",
    "unique_values = get_unique_values(my_list)\n",
    "print(\"Original List:\", my_list)\n",
    "print(\"Unique Values:\", unique_values)\n"
   ]
  },
  {
   "cell_type": "markdown",
   "id": "57c6aed2-a483-49a1-a354-acc135be3fbd",
   "metadata": {},
   "source": [
    "### Q:17 Write a Python program to check whether a list contains a sub list"
   ]
  },
  {
   "cell_type": "code",
   "execution_count": 21,
   "id": "85336585-cfa8-48b9-bfd7-8df6d3eb6e2d",
   "metadata": {},
   "outputs": [
    {
     "name": "stdout",
     "output_type": "stream",
     "text": [
      "Main List: [1, 2, 3, 4, 5, 6, 7]\n",
      "Sub List 1: [3, 4, 5]\n",
      "Contains Sub List 1: True\n",
      "Sub List 2: [7, 8]\n",
      "Contains Sub List 2: False\n"
     ]
    }
   ],
   "source": [
    "def contains_sublist(main_list, sublist):\n",
    "    # Convert lists to strings\n",
    "    main_str = ' '.join(map(str, main_list))\n",
    "    sublist_str = ' '.join(map(str, sublist))\n",
    "    \n",
    "    # Check if sublist is in main_list as a substring\n",
    "    if sublist_str in main_str:\n",
    "        return True\n",
    "    else:\n",
    "        return False\n",
    "\n",
    "# Example usage:\n",
    "my_list = [1, 2, 3, 4, 5, 6, 7]\n",
    "sub_list1 = [3, 4, 5]\n",
    "sub_list2 = [7, 8]\n",
    "\n",
    "print(\"Main List:\", my_list)\n",
    "print(\"Sub List 1:\", sub_list1)\n",
    "print(\"Contains Sub List 1:\", contains_sublist(my_list, sub_list1))\n",
    "print(\"Sub List 2:\", sub_list2)\n",
    "print(\"Contains Sub List 2:\", contains_sublist(my_list, sub_list2))\n"
   ]
  },
  {
   "cell_type": "markdown",
   "id": "1320d114-f150-4460-99bd-3d22aec695d1",
   "metadata": {},
   "source": [
    "### Q:18 Write a Python program to split a list into different variables."
   ]
  },
  {
   "cell_type": "code",
   "execution_count": 22,
   "id": "18d5efc9-fbae-42cc-b199-5b105b06309b",
   "metadata": {},
   "outputs": [
    {
     "name": "stdout",
     "output_type": "stream",
     "text": [
      "Original List: [1, 2, 3, 4, 5]\n",
      "Resulting Variables: 1 2 3\n"
     ]
    }
   ],
   "source": [
    "def split_list_into_variables(input_list):\n",
    "    # Unpack the list into individual variables\n",
    "    var1, var2, var3 = input_list[:3]  # Assuming you want to split into three variables\n",
    "\n",
    "    return var1, var2, var3\n",
    "\n",
    "# Example usage:\n",
    "my_list = [1, 2, 3, 4, 5]\n",
    "result1, result2, result3 = split_list_into_variables(my_list)\n",
    "\n",
    "print(\"Original List:\", my_list)\n",
    "print(\"Resulting Variables:\", result1, result2, result3)\n"
   ]
  },
  {
   "cell_type": "markdown",
   "id": "d94e3e60-46d7-4f16-878f-bdfa4d66bf6b",
   "metadata": {},
   "source": [
    "### Q:19  What is tuple? Difference between list and tuple."
   ]
  },
  {
   "cell_type": "markdown",
   "id": "6ab63da9-fc50-4b71-9e2a-5f9ad8aea979",
   "metadata": {},
   "source": [
    "#### A tuple in Python is a collection of ordered elements, similar to a list.\n",
    "#### However, tuples are immutable, meaning once they are created, their elements cannot be changed, added, or removed.\n",
    "#### Tuples are defined using parentheses () and can contain any number of elements separated by commas.\n",
    "## Differences are :\n",
    "#### LIST : Lists are mutable, meaning you can modify their elements after they are created. You can append, delete, or modify elements freely.\n",
    "#### TUPLE : Tuples are immutable. Once a tuple is created, you cannot change its elements. You can access elements but not modify them.\n",
    "#### Use lists when you need a collection that can change size or elements.\n",
    "#### Use tuples when you have a fixed collection of items that should not be changed."
   ]
  },
  {
   "cell_type": "markdown",
   "id": "004840c1-f1da-41f9-b703-6c01173d5bfb",
   "metadata": {},
   "source": [
    "### Q:20 Write a Python program to create a tuple with different data types."
   ]
  },
  {
   "cell_type": "code",
   "execution_count": 35,
   "id": "9b55380f-6742-478a-9886-5c0e1c963038",
   "metadata": {},
   "outputs": [
    {
     "name": "stdout",
     "output_type": "stream",
     "text": [
      "Mixed tuple: (1, 2.5, 'Hello', True, ('a', 'b', 'c'))\n",
      "First element: 1\n",
      "Third element: Hello\n",
      "Fifth element (a tuple): ('a', 'b', 'c')\n"
     ]
    }
   ],
   "source": [
    "# Creating a tuple with different data types\n",
    "mixed_tuple = (1, 2.5, 'Hello', True, ('a', 'b', 'c'))\n",
    "\n",
    "# Print the tuple\n",
    "print(\"Mixed tuple:\", mixed_tuple)\n",
    "\n",
    "# Accessing elements of the tuple\n",
    "print(\"First element:\", mixed_tuple[0])\n",
    "print(\"Third element:\", mixed_tuple[2])\n",
    "print(\"Fifth element (a tuple):\", mixed_tuple[4])\n"
   ]
  },
  {
   "cell_type": "markdown",
   "id": "3a5e5b1f-dd35-415b-bb80-e7d23ffe82c5",
   "metadata": {},
   "source": [
    "### Q:21 Write a Python program to create a tuple with numbers."
   ]
  },
  {
   "cell_type": "code",
   "execution_count": 36,
   "id": "01fbf220-88c0-4868-8327-0843b15fcda2",
   "metadata": {},
   "outputs": [
    {
     "name": "stdout",
     "output_type": "stream",
     "text": [
      "Numbers tuple: (1, 2, 3, 4, 5)\n",
      "First element: 1\n",
      "Last element: 5\n"
     ]
    }
   ],
   "source": [
    "# Creating a tuple with numbers\n",
    "numbers_tuple = (1, 2, 3, 4, 5)\n",
    "\n",
    "# Print the tuple\n",
    "print(\"Numbers tuple:\", numbers_tuple)\n",
    "\n",
    "# Accessing elements of the tuple\n",
    "print(\"First element:\", numbers_tuple[0])\n",
    "print(\"Last element:\", numbers_tuple[-1])\n"
   ]
  },
  {
   "cell_type": "markdown",
   "id": "cb029686-6929-4ad2-9f05-f983a53f2abe",
   "metadata": {},
   "source": [
    "### Q:22 Write a Python program to convert a tuple to a string."
   ]
  },
  {
   "cell_type": "code",
   "execution_count": 44,
   "id": "5d700657-dcee-41f2-b87f-ddb709529b3a",
   "metadata": {},
   "outputs": [
    {
     "name": "stdout",
     "output_type": "stream",
     "text": [
      "Tuple converted to string: 12345\n"
     ]
    }
   ],
   "source": [
    "def tuple_to_string(input_tuple):\n",
    "    # Join elements of the tuple into a single string\n",
    "    result_string = ''.join(map(str, input_tuple))\n",
    "    return result_string\n",
    "\n",
    "# Example tuple\n",
    "my_tuple = (1, 2, 3, 4, 5)\n",
    "\n",
    "# Convert tuple to string\n",
    "result_string = tuple_to_string(my_tuple)\n",
    "\n",
    "# Print the resulting string\n",
    "print(\"Tuple converted to string:\", result_string)\n"
   ]
  },
  {
   "cell_type": "markdown",
   "id": "2b69d1e4-41c6-4984-9a8f-1a4211b5232e",
   "metadata": {},
   "source": [
    "### Q:23 Write a Python program to check whether an element exists within a tuple."
   ]
  },
  {
   "cell_type": "code",
   "execution_count": 43,
   "id": "238c51e9-5faf-472d-9530-94f939d2bc4d",
   "metadata": {},
   "outputs": [
    {
     "name": "stdout",
     "output_type": "stream",
     "text": [
      "Element 3 exists in the tuple.\n"
     ]
    }
   ],
   "source": [
    "def element_exists_in_tuple(element, my_tuple):\n",
    "    # Check if element exists in tuple using 'in' keyword\n",
    "    if element in my_tuple:\n",
    "        return True\n",
    "    else:\n",
    "        return False\n",
    "\n",
    "# Example tuple\n",
    "my_tuple = (1, 2, 3, 4, 5)\n",
    "\n",
    "# Element to check existence\n",
    "element_to_check = 3\n",
    "\n",
    "# Check if element exists in the tuple\n",
    "exists = element_exists_in_tuple(element_to_check, my_tuple)\n",
    "\n",
    "# Print the result\n",
    "if exists:\n",
    "    print(f\"Element {element_to_check} exists in the tuple.\")\n",
    "else:\n",
    "    print(f\"Element {element_to_check} does not exist in the tuple.\")\n"
   ]
  },
  {
   "cell_type": "markdown",
   "id": "d00d5231-0799-4149-99ea-35b172b9b79e",
   "metadata": {},
   "source": [
    "### Q:24 Write a Python program to find the length of a tuple."
   ]
  },
  {
   "cell_type": "code",
   "execution_count": 42,
   "id": "740d2095-00c4-4f45-bca9-b58dcd35c701",
   "metadata": {},
   "outputs": [
    {
     "name": "stdout",
     "output_type": "stream",
     "text": [
      "Length of the tuple: 5\n"
     ]
    }
   ],
   "source": [
    "# Example tuple\n",
    "my_tuple = (1, 2, 3, 4, 5)\n",
    "\n",
    "# Find the length of the tuple\n",
    "tuple_length = len(my_tuple)\n",
    "\n",
    "# Print the length of the tuple\n",
    "print(\"Length of the tuple:\", tuple_length)\n"
   ]
  },
  {
   "cell_type": "markdown",
   "id": "26fc8acd-c27b-4d7d-95d8-15e987c5c87d",
   "metadata": {},
   "source": [
    "### Q:25 Write a Python program to convert a list to a tuple."
   ]
  },
  {
   "cell_type": "code",
   "execution_count": 41,
   "id": "45092750-daf2-4bfb-ae3b-fec24466ea01",
   "metadata": {},
   "outputs": [
    {
     "name": "stdout",
     "output_type": "stream",
     "text": [
      "Original list: [1, 2, 3, 4, 5]\n",
      "Converted tuple: (1, 2, 3, 4, 5)\n"
     ]
    }
   ],
   "source": [
    "def list_to_tuple(input_list):\n",
    "    # Convert list to tuple using tuple() constructor\n",
    "    output_tuple = tuple(input_list)\n",
    "    return output_tuple\n",
    "\n",
    "# Example list\n",
    "my_list = [1, 2, 3, 4, 5]\n",
    "\n",
    "# Convert list to tuple\n",
    "my_tuple = list_to_tuple(my_list)\n",
    "\n",
    "# Print the resulting tuple\n",
    "print(\"Original list:\", my_list)\n",
    "print(\"Converted tuple:\", my_tuple)\n"
   ]
  },
  {
   "cell_type": "markdown",
   "id": "29ca1c0c-8a30-41b2-b0a1-1465abbd95ab",
   "metadata": {},
   "source": [
    "### Q: 26 Write a Python program to reverse a tuple."
   ]
  },
  {
   "cell_type": "code",
   "execution_count": 40,
   "id": "561cd598-3d1c-42d7-bf61-a4a676acf030",
   "metadata": {},
   "outputs": [
    {
     "name": "stdout",
     "output_type": "stream",
     "text": [
      "Original tuple: (1, 2, 3, 4, 5)\n",
      "Reversed tuple: (5, 4, 3, 2, 1)\n"
     ]
    }
   ],
   "source": [
    "def reverse_tuple(input_tuple):\n",
    "    # Convert the tuple to a list, reverse it, then convert back to tuple\n",
    "    reversed_tuple = tuple(reversed(input_tuple))\n",
    "    return reversed_tuple\n",
    "\n",
    "# Example tuple\n",
    "my_tuple = (1, 2, 3, 4, 5)\n",
    "\n",
    "# Reverse the tuple\n",
    "reversed_tuple = reverse_tuple(my_tuple)\n",
    "\n",
    "# Print the reversed tuple\n",
    "print(\"Original tuple:\", my_tuple)\n",
    "print(\"Reversed tuple:\", reversed_tuple)\n"
   ]
  },
  {
   "cell_type": "markdown",
   "id": "57a335bc-7589-4165-97e2-117252cb8263",
   "metadata": {},
   "source": [
    "### Q:27 Write a Python program to replace last value of tuples in a list."
   ]
  },
  {
   "cell_type": "code",
   "execution_count": 39,
   "id": "c1059ea7-17ce-4f5c-a780-8d608ffec907",
   "metadata": {},
   "outputs": [
    {
     "name": "stdout",
     "output_type": "stream",
     "text": [
      "Modified list after replacing last value:\n",
      "[(1, 2, 10), (4, 5, 10), (7, 8, 10)]\n"
     ]
    }
   ],
   "source": [
    "def replace_last_value(tuples_list, new_value):\n",
    "    # Create a new list with modified tuples\n",
    "    modified_list = [(*t[:-1], new_value) for t in tuples_list]\n",
    "    return modified_list\n",
    "\n",
    "# Example list of tuples\n",
    "list_of_tuples = [(1, 2, 3), (4, 5, 6), (7, 8, 9)]\n",
    "\n",
    "# New value to replace the last element\n",
    "new_value = 10\n",
    "\n",
    "# Replace the last value of tuples in the list\n",
    "modified_list = replace_last_value(list_of_tuples, new_value)\n",
    "\n",
    "# Print the modified list of tuples\n",
    "print(\"Modified list after replacing last value:\")\n",
    "print(modified_list)\n"
   ]
  },
  {
   "cell_type": "markdown",
   "id": "d6e9636c-9d79-4d39-bd5d-ba64f66386df",
   "metadata": {},
   "source": [
    "### Q:28 Write a Python program to find the repeated items of a tuple."
   ]
  },
  {
   "cell_type": "code",
   "execution_count": 38,
   "id": "f343f7de-ce12-4b9d-9b17-7342b366f5b9",
   "metadata": {},
   "outputs": [
    {
     "name": "stdout",
     "output_type": "stream",
     "text": [
      "Repeated items in the tuple: [2, 3]\n"
     ]
    }
   ],
   "source": [
    "from collections import Counter\n",
    "\n",
    "def find_repeated_items(my_tuple):\n",
    "    # Count occurrences of each element in the tuple\n",
    "    count = Counter(my_tuple)\n",
    "    \n",
    "    # Find elements with count greater than 1 (repeated elements)\n",
    "    repeated_items = [item for item, freq in count.items() if freq > 1]\n",
    "    \n",
    "    return repeated_items\n",
    "\n",
    "# Example tuple\n",
    "my_tuple = (1, 2, 3, 2, 4, 5, 3, 6, 2, 7)\n",
    "\n",
    "# Find repeated items in the tuple\n",
    "repeated_items = find_repeated_items(my_tuple)\n",
    "\n",
    "# Print the repeated items\n",
    "print(\"Repeated items in the tuple:\", repeated_items)\n"
   ]
  },
  {
   "cell_type": "markdown",
   "id": "1c7a5639-2193-4438-a99e-f7f55787ebf8",
   "metadata": {},
   "source": [
    "### Q:29 Write a Python program to remove an empty tuple(s) from a list of tuples."
   ]
  },
  {
   "cell_type": "code",
   "execution_count": 37,
   "id": "1447a531-deb2-472d-8f08-adcbe2dfb0ec",
   "metadata": {},
   "outputs": [
    {
     "name": "stdout",
     "output_type": "stream",
     "text": [
      "List after removing empty tuples:\n",
      "[(1, 2), (3, 4), (5,), (6, 7, 8)]\n"
     ]
    }
   ],
   "source": [
    "def remove_empty_tuples(tuples_list):\n",
    "    # Use list comprehension to filter out empty tuples\n",
    "    filtered_list = [tup for tup in tuples_list if tup]\n",
    "    return filtered_list\n",
    "\n",
    "# Example list of tuples\n",
    "list_of_tuples = [(1, 2), (), (3, 4), (), (), (5,), (), (6, 7, 8)]\n",
    "\n",
    "# Remove empty tuples from the list\n",
    "filtered_list = remove_empty_tuples(list_of_tuples)\n",
    "\n",
    "# Print the filtered list\n",
    "print(\"List after removing empty tuples:\")\n",
    "print(filtered_list)\n"
   ]
  },
  {
   "cell_type": "markdown",
   "id": "f0f2ac2e-f603-465f-ab7e-c690451dbeaf",
   "metadata": {},
   "source": [
    "### Q:30 Write a Python program to unzip a list of tuples into individual lists."
   ]
  },
  {
   "cell_type": "code",
   "execution_count": 34,
   "id": "947b1b8c-b6c0-4642-bb5d-37c4c2f1ce96",
   "metadata": {},
   "outputs": [
    {
     "name": "stdout",
     "output_type": "stream",
     "text": [
      "Unzipped individual lists:\n",
      "[1, 2, 3]\n",
      "['a', 'b', 'c']\n",
      "[True, False, True]\n"
     ]
    }
   ],
   "source": [
    "def unzip_list_of_tuples(list_of_tuples):\n",
    "    # Use the unpacking operator (*) with zip to unzip the list of tuples\n",
    "    unzipped_lists = zip(*list_of_tuples)\n",
    "    \n",
    "    # Convert each unzipped iterable to a list\n",
    "    individual_lists = [list(elements) for elements in unzipped_lists]\n",
    "    \n",
    "    return individual_lists\n",
    "\n",
    "# Example list of tuples\n",
    "list_of_tuples = [(1, 'a', True), (2, 'b', False), (3, 'c', True)]\n",
    "\n",
    "# Unzip the list of tuples into individual lists\n",
    "unzipped_lists = unzip_list_of_tuples(list_of_tuples)\n",
    "\n",
    "# Print the individual lists\n",
    "print(\"Unzipped individual lists:\")\n",
    "for lst in unzipped_lists:\n",
    "    print(lst)\n"
   ]
  },
  {
   "cell_type": "markdown",
   "id": "f545cffc-4f74-427a-9daf-05616c9dc08b",
   "metadata": {},
   "source": [
    "### Q:31 Write a Python program to convert a list of tuples into a dictionary."
   ]
  },
  {
   "cell_type": "code",
   "execution_count": 33,
   "id": "444f6420-31ad-4afc-9499-c37126f0b79f",
   "metadata": {},
   "outputs": [
    {
     "name": "stdout",
     "output_type": "stream",
     "text": [
      "Dictionary converted from list of tuples:\n",
      "{'a': 1, 'b': 2, 'c': 3}\n"
     ]
    }
   ],
   "source": [
    "def list_of_tuples_to_dict(lst):\n",
    "    dictionary = {key: value for key, value in lst}\n",
    "    return dictionary\n",
    "\n",
    "# Example list of tuples\n",
    "list_of_tuples = [('a', 1), ('b', 2), ('c', 3)]\n",
    "\n",
    "# Convert list of tuples to dictionary\n",
    "result_dict = list_of_tuples_to_dict(list_of_tuples)\n",
    "\n",
    "# Print the resulting dictionary\n",
    "print(\"Dictionary converted from list of tuples:\")\n",
    "print(result_dict)\n"
   ]
  },
  {
   "cell_type": "markdown",
   "id": "1e788cf3-c690-4a9e-b6b2-c892244a1a83",
   "metadata": {},
   "source": [
    "### Q:32 How will you create a dictionary using tuples in python?"
   ]
  },
  {
   "cell_type": "code",
   "execution_count": 32,
   "id": "e4df8c3a-bdbe-4b5c-b69d-e3c10c91e93f",
   "metadata": {},
   "outputs": [
    {
     "name": "stdout",
     "output_type": "stream",
     "text": [
      "value1\n",
      "value2\n",
      "value3\n",
      "{('a', 1): 'value1', ('b', 2): 'value2', ('c', 3): 'value3', ('d', 4): 'value4'}\n"
     ]
    }
   ],
   "source": [
    "# Creating a dictionary using tuples as keys\n",
    "tuple_dict = {\n",
    "    ('a', 1): 'value1',\n",
    "    ('b', 2): 'value2',\n",
    "    ('c', 3): 'value3'\n",
    "}\n",
    "\n",
    "# Accessing elements in the dictionary\n",
    "print(tuple_dict[('a', 1)])  # Output: value1\n",
    "print(tuple_dict[('b', 2)])  # Output: value2\n",
    "print(tuple_dict[('c', 3)])  # Output: value3\n",
    "\n",
    "# Adding a new key-value pair with a tuple key\n",
    "tuple_dict[('d', 4)] = 'value4'\n",
    "\n",
    "# Print the updated dictionary\n",
    "print(tuple_dict)\n"
   ]
  },
  {
   "cell_type": "markdown",
   "id": "6bfef21f-fa24-40c5-a68e-6c99950b65e6",
   "metadata": {},
   "source": [
    "### Q:33 Write a Python script to sort (ascending and descending) a dictionary by value."
   ]
  },
  {
   "cell_type": "code",
   "execution_count": 31,
   "id": "8be68c55-b3bb-4cc8-822b-cfd072a53c2c",
   "metadata": {},
   "outputs": [
    {
     "name": "stdout",
     "output_type": "stream",
     "text": [
      "Dictionary sorted by value in ascending order:\n",
      "{'a': 1, 'b': 2, 'c': 3, 'd': 4}\n"
     ]
    }
   ],
   "source": [
    "def sort_dict_by_value_ascending(d):\n",
    "    sorted_dict = dict(sorted(d.items(), key=lambda item: item[1]))\n",
    "    return sorted_dict\n",
    "\n",
    "# Example dictionary\n",
    "my_dict = {'b': 2, 'a': 1, 'd': 4, 'c': 3}\n",
    "\n",
    "# Sort dictionary by value in ascending order\n",
    "sorted_dict_asc = sort_dict_by_value_ascending(my_dict)\n",
    "\n",
    "# Print sorted dictionary in ascending order\n",
    "print(\"Dictionary sorted by value in ascending order:\")\n",
    "print(sorted_dict_asc)\n"
   ]
  },
  {
   "cell_type": "markdown",
   "id": "730f2a3e-1fbf-4eda-9094-65988e49be65",
   "metadata": {},
   "source": [
    "### Q:34 Write a Python script to concatenate following dictionaries to create a new one."
   ]
  },
  {
   "cell_type": "code",
   "execution_count": 30,
   "id": "f6450b65-0818-4a90-9ff9-2cf60848828f",
   "metadata": {},
   "outputs": [
    {
     "name": "stdout",
     "output_type": "stream",
     "text": [
      "Concatenated dictionary:\n",
      "{'a': 1, 'b': 2, 'c': 3, 'd': 4, 'e': 5}\n"
     ]
    }
   ],
   "source": [
    "def concatenate_dicts(*dicts):\n",
    "    concatenated_dict = {}\n",
    "    for d in dicts:\n",
    "        concatenated_dict = {**concatenated_dict, **d}\n",
    "    return concatenated_dict\n",
    "\n",
    "# Example dictionaries to concatenate\n",
    "dict1 = {'a': 1, 'b': 2}\n",
    "dict2 = {'c': 3, 'd': 4}\n",
    "dict3 = {'e': 5}\n",
    "\n",
    "# Concatenate dictionaries\n",
    "concatenated_dict = concatenate_dicts(dict1, dict2, dict3)\n",
    "\n",
    "# Print the concatenated dictionary\n",
    "print(\"Concatenated dictionary:\")\n",
    "print(concatenated_dict)\n"
   ]
  },
  {
   "cell_type": "markdown",
   "id": "474ad2aa-42c9-40e0-87d7-b0f56840f1c1",
   "metadata": {},
   "source": [
    "### Q:35 Write a Python script to check if a given key already exists in a dictionary."
   ]
  },
  {
   "cell_type": "code",
   "execution_count": 29,
   "id": "4c55ca53-696c-4776-940f-d0b8c1a40a60",
   "metadata": {},
   "outputs": [
    {
     "name": "stdout",
     "output_type": "stream",
     "text": [
      "The key 'd' does not exist in the dictionary.\n"
     ]
    }
   ],
   "source": [
    "def check_key_existence(dictionary, key):\n",
    "    if dictionary.get(key) is not None:\n",
    "        return True\n",
    "    else:\n",
    "        return False\n",
    "\n",
    "# Example usage:\n",
    "my_dict = {'a': 1, 'b': 2, 'c': 3}\n",
    "\n",
    "key_to_check = 'd'\n",
    "if check_key_existence(my_dict, key_to_check):\n",
    "    print(f\"The key '{key_to_check}' exists in the dictionary.\")\n",
    "else:\n",
    "    print(f\"The key '{key_to_check}' does not exist in the dictionary.\")\n"
   ]
  },
  {
   "cell_type": "markdown",
   "id": "3c4f6915-09f6-4401-a554-86e69bc05ecd",
   "metadata": {},
   "source": [
    "### Q:36 How Do You Traverse Through A Dictionary Object In Python?"
   ]
  },
  {
   "cell_type": "code",
   "execution_count": 28,
   "id": "9c0abf37-dfd2-4229-bde7-4f58965d739b",
   "metadata": {},
   "outputs": [
    {
     "name": "stdout",
     "output_type": "stream",
     "text": [
      "Key: a, Value: 1\n",
      "Key: b, Value: 2\n",
      "Key: c, Value: 3\n"
     ]
    }
   ],
   "source": [
    "my_dict = {'a': 1, 'b': 2, 'c': 3}\n",
    "\n",
    "# Iterate over key-value pairs\n",
    "for key, value in my_dict.items():\n",
    "    print(f\"Key: {key}, Value: {value}\")\n"
   ]
  },
  {
   "cell_type": "markdown",
   "id": "890b0337-bb73-4031-8674-bf3406b963ad",
   "metadata": {},
   "source": [
    "### Q:37 How Do You Check The Presence Of A Key In A Dictionary?"
   ]
  },
  {
   "cell_type": "code",
   "execution_count": 27,
   "id": "b28aac1b-5305-4535-b1e1-0c72a00a1798",
   "metadata": {},
   "outputs": [
    {
     "name": "stdout",
     "output_type": "stream",
     "text": [
      "'a' is present in the dictionary\n",
      "'d' is not present in the dictionary\n"
     ]
    }
   ],
   "source": [
    "my_dict = {'a': 1, 'b': 2, 'c': 3}\n",
    "\n",
    "# Check if key 'a' exists in the dictionary\n",
    "if 'a' in my_dict:\n",
    "    print(\"'a' is present in the dictionary\")\n",
    "else:\n",
    "    print(\"'a' is not present in the dictionary\")\n",
    "\n",
    "# Check if key 'd' exists in the dictionary\n",
    "if 'd' in my_dict:\n",
    "    print(\"'d' is present in the dictionary\")\n",
    "else:\n",
    "    print(\"'d' is not present in the dictionary\")\n"
   ]
  },
  {
   "cell_type": "markdown",
   "id": "f92ad5ab-babe-47ef-a316-67358eb56bee",
   "metadata": {},
   "source": [
    "### Q:38 Write a Python script to print a dictionary where the keys are numbers between 1 and 15."
   ]
  },
  {
   "cell_type": "code",
   "execution_count": 25,
   "id": "6eabf67d-9168-4940-b1c8-24796d96a3e8",
   "metadata": {},
   "outputs": [
    {
     "name": "stdout",
     "output_type": "stream",
     "text": [
      "Dictionary with keys between 1 and 15:\n",
      "{1: None, 2: None, 3: None, 4: None, 5: None, 6: None, 7: None, 8: None, 9: None, 10: None, 11: None, 12: None, 13: None, 14: None, 15: None}\n"
     ]
    }
   ],
   "source": [
    "def create_dictionary():\n",
    "    dictionary = {}\n",
    "    for i in range(1, 16):\n",
    "        dictionary[i] = None  # You can assign any default value here\n",
    "    return dictionary\n",
    "\n",
    "# Create the dictionary\n",
    "result_dict = create_dictionary()\n",
    "\n",
    "# Print the dictionary\n",
    "print(\"Dictionary with keys between 1 and 15:\")\n",
    "print(result_dict)\n"
   ]
  },
  {
   "cell_type": "markdown",
   "id": "802769a4-26d1-4fce-95dd-e79d043ed9d5",
   "metadata": {},
   "source": [
    "### Q:39 Write a Python program to check multiple keys exists in a dictionary"
   ]
  },
  {
   "cell_type": "code",
   "execution_count": 24,
   "id": "eef10c05-32ac-47f9-9caa-bb2846c4db9c",
   "metadata": {},
   "outputs": [
    {
     "name": "stdout",
     "output_type": "stream",
     "text": [
      "Some keys do not exist in the dictionary\n"
     ]
    }
   ],
   "source": [
    "def check_keys_exist(dictionary, keys):\n",
    "    for key in keys:\n",
    "        if key not in dictionary:\n",
    "            return False\n",
    "    return True\n",
    "\n",
    "# Example usage:\n",
    "sample_dict = {'a': 1, 'b': 2, 'c': 3, 'd': 4}\n",
    "keys_to_check = ['a', 'b', 'd', 'e']\n",
    "\n",
    "if check_keys_exist(sample_dict, keys_to_check):\n",
    "    print(\"All keys exist in the dictionary\")\n",
    "else:\n",
    "    print(\"Some keys do not exist in the dictionary\")\n"
   ]
  },
  {
   "cell_type": "markdown",
   "id": "96b62e1e-f063-4dfd-872f-7272796cea97",
   "metadata": {},
   "source": [
    "### Q:40 Write a Python script to merge two Python dictionaries"
   ]
  },
  {
   "cell_type": "code",
   "execution_count": 23,
   "id": "a9bd945d-0ce5-4fb8-ad54-22d68ec345d6",
   "metadata": {},
   "outputs": [
    {
     "name": "stdout",
     "output_type": "stream",
     "text": [
      "Merged dictionary: {'a': 1, 'b': 3, 'c': 4}\n"
     ]
    }
   ],
   "source": [
    "def merge_dicts(dict1, dict2):\n",
    "    merged_dict = {**dict1, **dict2}\n",
    "    return merged_dict\n",
    "\n",
    "# Example usage:\n",
    "dict1 = {'a': 1, 'b': 2}\n",
    "dict2 = {'b': 3, 'c': 4}\n",
    "merged_dict = merge_dicts(dict1, dict2)\n",
    "print(\"Merged dictionary:\", merged_dict)\n"
   ]
  },
  {
   "cell_type": "markdown",
   "id": "8755e378-e28a-481c-bbde-e397a645f686",
   "metadata": {},
   "source": [
    "### Q:41 Write a Python program to map two lists into a dictionary"
   ]
  },
  {
   "cell_type": "code",
   "execution_count": 46,
   "id": "b87242af-b444-4076-8cce-1b663d78ce29",
   "metadata": {},
   "outputs": [
    {
     "name": "stdout",
     "output_type": "stream",
     "text": [
      "Mapped dictionary: {'a': 1, 'b': 2, 'c': 3, 'd': 4}\n"
     ]
    }
   ],
   "source": [
    "def lists_to_dict(keys, values):\n",
    "    # Using dictionary comprehension with zip\n",
    "    mapped_dict = {k: v for k, v in zip(keys, values)}\n",
    "    return mapped_dict\n",
    "\n",
    "# Example lists\n",
    "keys_list = ['a', 'b', 'c', 'd']\n",
    "values_list = [1, 2, 3, 4]\n",
    "\n",
    "# Map lists to dictionary\n",
    "result_dict = lists_to_dict(keys_list, values_list)\n",
    "\n",
    "# Print the resulting dictionary\n",
    "print(\"Mapped dictionary:\", result_dict)\n"
   ]
  },
  {
   "cell_type": "markdown",
   "id": "4ddba0e6-cdac-451a-9e00-d0b64e609d95",
   "metadata": {},
   "source": [
    "### Q:42 Write a Python program to combine two dictionary adding values for common keys.\n",
    "#### o d1 = {'a': 100, 'b': 200, 'c':300} o d2 = {'a': 300, 'b':\n",
    "#### 200,’d’:400}"
   ]
  },
  {
   "cell_type": "code",
   "execution_count": 47,
   "id": "fc533c97-fbc0-43ea-96ab-6a8a72bb67c2",
   "metadata": {},
   "outputs": [
    {
     "name": "stdout",
     "output_type": "stream",
     "text": [
      "Combined Dictionary with summed values for common keys:\n",
      "{'a': 400, 'b': 400, 'c': 300, 'd': 400}\n"
     ]
    }
   ],
   "source": [
    "def combine_dicts(d1, d2):\n",
    "    combined_dict = {}\n",
    "\n",
    "    # Add values from d1 to combined_dict\n",
    "    for key, value in d1.items():\n",
    "        combined_dict[key] = value\n",
    "\n",
    "    # Add values from d2 to combined_dict, summing values for common keys\n",
    "    for key, value in d2.items():\n",
    "        if key in combined_dict:\n",
    "            combined_dict[key] += value\n",
    "        else:\n",
    "            combined_dict[key] = value\n",
    "\n",
    "    return combined_dict\n",
    "\n",
    "# Example dictionaries\n",
    "d1 = {'a': 100, 'b': 200, 'c': 300}\n",
    "d2 = {'a': 300, 'b': 200, 'd': 400}\n",
    "\n",
    "# Combine dictionaries\n",
    "combined_dict = combine_dicts(d1, d2)\n",
    "\n",
    "# Print the combined dictionary\n",
    "print(\"Combined Dictionary with summed values for common keys:\")\n",
    "print(combined_dict)\n"
   ]
  },
  {
   "cell_type": "markdown",
   "id": "1b550298-c60e-4154-ba37-0fee1be8cdcf",
   "metadata": {},
   "source": [
    "### Q:43 Sample output: Counter ({'a': 400, 'b': 400,’d’: 400, 'c': 300})."
   ]
  },
  {
   "cell_type": "code",
   "execution_count": 48,
   "id": "68810efc-1170-45ba-99d8-1981d20fe452",
   "metadata": {},
   "outputs": [
    {
     "name": "stdout",
     "output_type": "stream",
     "text": [
      "Counter({'a': 400, 'b': 400, 'c': 300, 'd': 400})\n"
     ]
    }
   ],
   "source": [
    "def combine_dicts(d1, d2):\n",
    "    combined_dict = {}\n",
    "\n",
    "    # Add values from d1 to combined_dict\n",
    "    for key, value in d1.items():\n",
    "        combined_dict[key] = value\n",
    "\n",
    "    # Add values from d2 to combined_dict, summing values for common keys\n",
    "    for key, value in d2.items():\n",
    "        if key in combined_dict:\n",
    "            combined_dict[key] += value\n",
    "        else:\n",
    "            combined_dict[key] = value\n",
    "\n",
    "    return combined_dict\n",
    "\n",
    "# Example dictionaries\n",
    "d1 = {'a': 100, 'b': 200, 'c': 300}\n",
    "d2 = {'a': 300, 'b': 200, 'd': 400}\n",
    "\n",
    "# Combine dictionaries\n",
    "combined_dict = combine_dicts(d1, d2)\n",
    "\n",
    "# Print the combined dictionary in the requested format\n",
    "print(f\"Counter({combined_dict})\")\n"
   ]
  },
  {
   "cell_type": "markdown",
   "id": "b6a9c3ce-4e2e-4832-8777-b4ce53717df8",
   "metadata": {},
   "source": [
    "#### Q:44 Write a Python program to print all unique values in a dictionary."
   ]
  },
  {
   "cell_type": "code",
   "execution_count": 45,
   "id": "ed57c963-a87a-4cb6-b42c-40eb0d9d5e4d",
   "metadata": {},
   "outputs": [
    {
     "name": "stdout",
     "output_type": "stream",
     "text": [
      "Unique values in the dictionary: {1, 2, 3, 4}\n"
     ]
    }
   ],
   "source": [
    "def unique_values_in_dict(input_dict):\n",
    "    # Create an empty set to store unique values\n",
    "    unique_values = set()\n",
    "\n",
    "    # Iterate through each value in the dictionary\n",
    "    for value in input_dict.values():\n",
    "        unique_values.add(value)  # Add each value to the set\n",
    "\n",
    "    return unique_values\n",
    "\n",
    "# Example dictionary\n",
    "my_dict = {'a': 1, 'b': 2, 'c': 1, 'd': 3, 'e': 2, 'f': 4}\n",
    "\n",
    "# Get unique values from the dictionary\n",
    "unique_vals = unique_values_in_dict(my_dict)\n",
    "\n",
    "# Print unique values\n",
    "print(\"Unique values in the dictionary:\", unique_vals)\n"
   ]
  },
  {
   "cell_type": "markdown",
   "id": "43d2e3c6-8edc-4d32-b957-0f3bf112452b",
   "metadata": {},
   "source": [
    "### Q:45 Why Do You Use the Zip () Method in Python?"
   ]
  },
  {
   "cell_type": "code",
   "execution_count": 49,
   "id": "b196f1cf-109e-4cc9-83cf-2705154035c7",
   "metadata": {},
   "outputs": [
    {
     "name": "stdout",
     "output_type": "stream",
     "text": [
      "[(1, 'a'), (2, 'b'), (3, 'c')]\n"
     ]
    }
   ],
   "source": [
    "# zip() allows you to iterate over multiple sequences at the same time. \n",
    "# It aggregates elements from each iterable into tuples, which can then be accessed sequentially.\n",
    "list1 = [1, 2, 3]\n",
    "list2 = ['a', 'b', 'c']\n",
    "\n",
    "# Using zip() to combine lists into tuples\n",
    "zipped = list(zip(list1, list2))\n",
    "\n",
    "print(zipped)  # Output: [(1, 'a'), (2, 'b'), (3, 'c')]\n"
   ]
  },
  {
   "cell_type": "markdown",
   "id": "c82da239-a3d9-4eac-99f9-731a5d03afc5",
   "metadata": {},
   "source": [
    "### Q:46 Write a Python program to create and display all combinations of letters, selecting each letter from a different key in a dictionary.\n",
    "#### Sample data: {'1': ['a','b'], '2': ['c','d']} o Expected Output: o ac ad bc bd"
   ]
  },
  {
   "cell_type": "code",
   "execution_count": 50,
   "id": "a7ab1a74-af3d-4eff-ac1d-c2e47246b39c",
   "metadata": {},
   "outputs": [
    {
     "name": "stdout",
     "output_type": "stream",
     "text": [
      "Combinations: ['ac', 'ad', 'bc', 'bd']\n"
     ]
    }
   ],
   "source": [
    "from itertools import product\n",
    "\n",
    "def generate_combinations(dictionary):\n",
    "    # Extract values (lists of letters) from the dictionary\n",
    "    lists_of_letters = list(dictionary.values())\n",
    "    \n",
    "    # Use itertools.product to generate combinations\n",
    "    combinations = list(product(*lists_of_letters))\n",
    "    \n",
    "    # Convert tuples to strings and join them\n",
    "    result = [''.join(comb) for comb in combinations]\n",
    "    \n",
    "    return result\n",
    "\n",
    "# Sample data\n",
    "sample_data = {'1': ['a', 'b'], '2': ['c', 'd']}\n",
    "\n",
    "# Generate and display combinations\n",
    "combinations = generate_combinations(sample_data)\n",
    "print(\"Combinations:\", combinations)\n"
   ]
  },
  {
   "cell_type": "markdown",
   "id": "1baa0c5d-c4e7-40b7-8caf-078cded33f25",
   "metadata": {},
   "source": [
    "### Q:47 Write a Python program to find the highest 3 values in a dictionary"
   ]
  },
  {
   "cell_type": "code",
   "execution_count": 51,
   "id": "2f4a7327-8f3e-46e4-8b0f-25f107878f09",
   "metadata": {},
   "outputs": [
    {
     "name": "stdout",
     "output_type": "stream",
     "text": [
      "Highest three values: [500, 400, 300]\n"
     ]
    }
   ],
   "source": [
    "def highest_three_values(input_dict):\n",
    "    # Get values from the dictionary and sort them in descending order\n",
    "    sorted_values = sorted(input_dict.values(), reverse=True)\n",
    "    \n",
    "    # Take the first three values (highest three)\n",
    "    highest_three = sorted_values[:3]\n",
    "    \n",
    "    return highest_three\n",
    "\n",
    "# Example dictionary\n",
    "my_dict = {'a': 100, 'b': 500, 'c': 200, 'd': 300, 'e': 400}\n",
    "\n",
    "# Find highest three values\n",
    "top_three = highest_three_values(my_dict)\n",
    "\n",
    "# Print the result\n",
    "print(\"Highest three values:\", top_three)\n"
   ]
  },
  {
   "cell_type": "markdown",
   "id": "b548e0be-bf75-4b31-8f8b-a3c43393c4ae",
   "metadata": {},
   "source": [
    "### Q:48 Write a Python program to combine values in python list of dictionaries."
   ]
  },
  {
   "cell_type": "code",
   "execution_count": 52,
   "id": "7f262ec3-8367-4ca8-8d10-30d14f0e00b1",
   "metadata": {},
   "outputs": [
    {
     "name": "stdout",
     "output_type": "stream",
     "text": [
      "Combined Dictionary:\n",
      "{'a': [100, 300], 'b': [200, 400, 500], 'c': [300], 'd': [600]}\n"
     ]
    }
   ],
   "source": [
    "from collections import defaultdict\n",
    "\n",
    "def combine_values(list_of_dicts):\n",
    "    combined_dict = defaultdict(list)\n",
    "    \n",
    "    # Iterate over each dictionary in the list\n",
    "    for d in list_of_dicts:\n",
    "        for key, value in d.items():\n",
    "            combined_dict[key].append(value)\n",
    "    \n",
    "    # Convert defaultdict back to a normal dictionary\n",
    "    combined_dict = dict(combined_dict)\n",
    "    \n",
    "    return combined_dict\n",
    "\n",
    "# Example list of dictionaries\n",
    "list_of_dicts = [\n",
    "    {'a': 100, 'b': 200, 'c': 300},\n",
    "    {'a': 300, 'b': 400},\n",
    "    {'b': 500, 'd': 600}\n",
    "]\n",
    "\n",
    "# Combine values from list of dictionaries\n",
    "combined_values = combine_values(list_of_dicts)\n",
    "\n",
    "# Print the combined dictionary\n",
    "print(\"Combined Dictionary:\")\n",
    "print(combined_values)\n"
   ]
  },
  {
   "cell_type": "markdown",
   "id": "d870a86c-9aef-49bf-b3be-5c7dd872392b",
   "metadata": {},
   "source": [
    "### Q:49 Write a Python function to calculate the factorial of a number (a nonnegative integer)"
   ]
  },
  {
   "cell_type": "code",
   "execution_count": 53,
   "id": "edd54ea6-75b8-4bf8-9d45-9ae5207fc6ae",
   "metadata": {},
   "outputs": [
    {
     "name": "stdout",
     "output_type": "stream",
     "text": [
      "The factorial of 5 is: 120\n"
     ]
    }
   ],
   "source": [
    "def factorial(n):\n",
    "    if n < 0:\n",
    "        raise ValueError(\"Factorial is not defined for negative numbers\")\n",
    "    if n == 0 or n == 1:\n",
    "        return 1\n",
    "    result = 1\n",
    "    for i in range(2, n + 1):\n",
    "        result *= i\n",
    "    return result\n",
    "\n",
    "# Example usage\n",
    "num = 5\n",
    "print(f\"The factorial of {num} is:\", factorial(num))\n"
   ]
  },
  {
   "cell_type": "markdown",
   "id": "c4e5132a-23f5-48e8-b754-30d02e31a7d9",
   "metadata": {},
   "source": [
    "### Q:50 Write a Python function to check whether a number is in a given range"
   ]
  },
  {
   "cell_type": "code",
   "execution_count": 54,
   "id": "c0accbc7-dff6-4362-b426-03b5f5ae10ee",
   "metadata": {},
   "outputs": [
    {
     "name": "stdout",
     "output_type": "stream",
     "text": [
      "10 is in the range [5, 15]\n"
     ]
    }
   ],
   "source": [
    "def in_range(num, start, end):\n",
    "    return start <= num <= end\n",
    "\n",
    "# Example usage\n",
    "number = 10\n",
    "start_range = 5\n",
    "end_range = 15\n",
    "\n",
    "if in_range(number, start_range, end_range):\n",
    "    print(f\"{number} is in the range [{start_range}, {end_range}]\")\n",
    "else:\n",
    "    print(f\"{number} is not in the range [{start_range}, {end_range}]\")\n"
   ]
  },
  {
   "cell_type": "markdown",
   "id": "294d2b8f-8cf5-4352-a2ea-92d24d1b23f9",
   "metadata": {},
   "source": [
    "### Q:51 Write a Python function to check whether a number is perfect or not."
   ]
  },
  {
   "cell_type": "code",
   "execution_count": 55,
   "id": "df775470-7a95-44bd-8ec1-4f0ef623aefe",
   "metadata": {},
   "outputs": [
    {
     "name": "stdout",
     "output_type": "stream",
     "text": [
      "28 is a perfect number\n"
     ]
    }
   ],
   "source": [
    "def is_perfect_number(num):\n",
    "    if num <= 0:\n",
    "        return False\n",
    "    \n",
    "    sum_of_divisors = 0\n",
    "    # Find all divisors (excluding num itself)\n",
    "    for i in range(1, num):\n",
    "        if num % i == 0:\n",
    "            sum_of_divisors += i\n",
    "    \n",
    "    # Check if the sum of divisors equals num\n",
    "    return sum_of_divisors == num\n",
    "\n",
    "# Example usage\n",
    "number = 28\n",
    "if is_perfect_number(number):\n",
    "    print(f\"{number} is a perfect number\")\n",
    "else:\n",
    "    print(f\"{number} is not a perfect number\")\n"
   ]
  },
  {
   "cell_type": "markdown",
   "id": "7c4f1b66-7e3a-4fdf-aa2c-266f5f74ef13",
   "metadata": {},
   "source": [
    "### Q:52 Write a Python function that checks whether a passed string is palindrome or not"
   ]
  },
  {
   "cell_type": "code",
   "execution_count": 56,
   "id": "2dd08142-b5fa-41bc-973c-4b6074baf653",
   "metadata": {},
   "outputs": [
    {
     "name": "stdout",
     "output_type": "stream",
     "text": [
      "'A man a plan a canal Panama' is a palindrome\n"
     ]
    }
   ],
   "source": [
    "def is_palindrome(s):\n",
    "    # Remove spaces and convert to lowercase\n",
    "    s = s.replace(\" \", \"\").lower()\n",
    "    # Check if the string is equal to its reverse\n",
    "    return s == s[::-1]\n",
    "\n",
    "# Example usage\n",
    "string = \"A man a plan a canal Panama\"\n",
    "if is_palindrome(string):\n",
    "    print(f\"'{string}' is a palindrome\")\n",
    "else:\n",
    "    print(f\"'{string}' is not a palindrome\")\n"
   ]
  },
  {
   "cell_type": "markdown",
   "id": "cc888743-9b2e-4fd8-9a9b-8c2fe6c5e49b",
   "metadata": {},
   "source": [
    "### Q:53 How do you perform pattern matching in Python? Explain"
   ]
  },
  {
   "cell_type": "markdown",
   "id": "cc29ddde-ada1-4342-bd6a-23eac7cedeac",
   "metadata": {},
   "source": [
    "#### Python's flexibility with pattern matching across different modules and libraries makes it suitable for a wide range of tasks, from simple substring searches to complex regex-based matching and sequence comparisons. Choosing the right method or library depends on the specific requirements and complexity of the pattern matching task at hand."
   ]
  },
  {
   "cell_type": "markdown",
   "id": "dd16060c-3fa4-47fc-9524-004bdaca0976",
   "metadata": {},
   "source": [
    "### Q:54 What is lambda function in python? What we call a function which is incomplete version of a function?"
   ]
  },
  {
   "cell_type": "markdown",
   "id": "7a587068-cd86-4978-b38d-3621a57d7fce",
   "metadata": {},
   "source": [
    "#### A lambda function in Python is a small anonymous function defined with the lambda keyword. It allows you to create a function on-the-fly without a proper name (hence, anonymous) and is typically used for short, simple operations where defining a full function using def would be overly verbose"
   ]
  },
  {
   "cell_type": "markdown",
   "id": "92ec1c04-262e-41eb-a5a5-0976619c3ccc",
   "metadata": {},
   "source": [
    "### Q:55 How Many Basic Types Of Functions Are Available In Python?"
   ]
  },
  {
   "cell_type": "markdown",
   "id": "7922d82b-329e-4054-8a89-818cf43f2881",
   "metadata": {},
   "source": [
    "#### 1) Built-in Functions\n",
    "#### 2) User-defined Functions\n",
    "#### 3) Lambda Functions\n",
    "#### 4) Recursive Functions"
   ]
  },
  {
   "cell_type": "markdown",
   "id": "d8f794e3-51ad-4476-b9ec-85e26663e947",
   "metadata": {},
   "source": [
    "### Q:56 How can you pick a random item from a list or tuple?"
   ]
  },
  {
   "cell_type": "markdown",
   "id": "684f5ce6-a3d5-42a0-b191-d9a8d86e975c",
   "metadata": {},
   "source": [
    "#### Using random.randrange() Function"
   ]
  },
  {
   "cell_type": "markdown",
   "id": "df30c463-71e0-4c42-b177-8e743b542e2c",
   "metadata": {},
   "source": [
    "### Q:57 How can you pick a random item from a range?"
   ]
  },
  {
   "cell_type": "markdown",
   "id": "8c0b7a96-5e1b-479b-b066-5695fcddf11a",
   "metadata": {},
   "source": [
    "#### Using random.randrange() Function"
   ]
  },
  {
   "cell_type": "markdown",
   "id": "02738a8b-e8a8-4dc6-856f-3310d8304014",
   "metadata": {},
   "source": [
    "### Q:58  How can you get a random number in python?"
   ]
  },
  {
   "cell_type": "markdown",
   "id": "8b1cc790-3920-4c93-af15-674ec056fbed",
   "metadata": {},
   "source": [
    "####  Using random.random() Function"
   ]
  },
  {
   "cell_type": "markdown",
   "id": "e658a85f-e5c8-4930-a5e0-d4f641bfd457",
   "metadata": {},
   "source": [
    "### Q:59 How will you set the starting value in generating random numbers?"
   ]
  },
  {
   "cell_type": "code",
   "execution_count": null,
   "id": "90d4f708-4789-42c3-8053-0b843a176eb4",
   "metadata": {},
   "outputs": [],
   "source": [
    "import random\n",
    "\n",
    "# Set the seed (replace 42 with any integer value)\n",
    "random.seed(42)\n",
    "\n",
    "# Generate random numbers\n",
    "print(\"Random number 1:\", random.random())\n",
    "print(\"Random number 2:\", random.random())\n",
    "print(\"Random number 3:\", random.random())\n"
   ]
  },
  {
   "cell_type": "markdown",
   "id": "04672c04-436a-43a9-89a5-b644b11695b0",
   "metadata": {},
   "source": [
    "### Q:60 How will you randomizes the items of a list in place?"
   ]
  },
  {
   "cell_type": "code",
   "execution_count": 58,
   "id": "c28ff8ea-2a3a-478f-a553-8f4ad0f567b8",
   "metadata": {},
   "outputs": [
    {
     "name": "stdout",
     "output_type": "stream",
     "text": [
      "Shuffled list: [3, 5, 4, 2, 1]\n"
     ]
    }
   ],
   "source": [
    "import random\n",
    "\n",
    "my_list = [1, 2, 3, 4, 5]\n",
    "\n",
    "# Shuffle the list in place\n",
    "random.shuffle(my_list)\n",
    "\n",
    "print(\"Shuffled list:\", my_list)\n"
   ]
  },
  {
   "cell_type": "markdown",
   "id": "d8d52db1-46da-4f67-a940-40a243da16c5",
   "metadata": {},
   "source": [
    "### Q:61 Write a Python program to read a random line from a file"
   ]
  },
  {
   "cell_type": "markdown",
   "id": "ded03cc4-9bce-4128-b05b-861750c500d0",
   "metadata": {},
   "source": [
    "#### Steps to Implement:\n",
    "\n",
    "#### Open the File: Open the file in read mode ('r').\n",
    "#### Count the Lines: Determine the total number of lines in the file.\n",
    "#### Select a Random Line: Generate a random line number within the range of total lines.\n",
    "#### Read the Selected Line: Iterate through the file to read and return the randomly selected line."
   ]
  },
  {
   "cell_type": "markdown",
   "id": "07cb4c66-147f-4561-89c7-cad0533b3fd0",
   "metadata": {},
   "source": [
    "### Q:62 Write a Python program to calculate the area of a trapezoid"
   ]
  },
  {
   "cell_type": "code",
   "execution_count": 59,
   "id": "25fc75d4-3f2b-414f-ac81-e4d2bf719b75",
   "metadata": {},
   "outputs": [
    {
     "name": "stdout",
     "output_type": "stream",
     "text": [
      "The area of the trapezoid with base1=5, base2=7, and height=4 is: 24.0\n"
     ]
    }
   ],
   "source": [
    "def calculate_trapezoid_area(base1, base2, height):\n",
    "    area = 0.5 * (base1 + base2) * height\n",
    "    return area\n",
    "\n",
    "# Example usage:\n",
    "base1 = 5\n",
    "base2 = 7\n",
    "height = 4\n",
    "\n",
    "area = calculate_trapezoid_area(base1, base2, height)\n",
    "print(f\"The area of the trapezoid with base1={base1}, base2={base2}, and height={height} is: {area}\")\n"
   ]
  },
  {
   "cell_type": "markdown",
   "id": "ab44715a-e2ac-4417-b4d6-aa179c39f1b3",
   "metadata": {},
   "source": [
    "### Q:63 Write a Python program to calculate the area of a parallelogram"
   ]
  },
  {
   "cell_type": "code",
   "execution_count": 60,
   "id": "99f921c6-aea7-4921-89b8-d85eff0c1b89",
   "metadata": {},
   "outputs": [
    {
     "name": "stdout",
     "output_type": "stream",
     "text": [
      "The area of the parallelogram with base=8 and height=5 is: 40\n"
     ]
    }
   ],
   "source": [
    "def calculate_parallelogram_area(base, height):\n",
    "    area = base * height\n",
    "    return area\n",
    "\n",
    "# Example usage:\n",
    "base_length = 8\n",
    "height = 5\n",
    "\n",
    "area = calculate_parallelogram_area(base_length, height)\n",
    "print(f\"The area of the parallelogram with base={base_length} and height={height} is: {area}\")\n"
   ]
  },
  {
   "cell_type": "markdown",
   "id": "7817351a-19ae-455b-b10d-49a5feffc86e",
   "metadata": {},
   "source": [
    "\n",
    "### Q:64 Write a Python program to calculate surface volume and area of a cylinder"
   ]
  },
  {
   "cell_type": "code",
   "execution_count": 61,
   "id": "4f8396bb-9e79-4f33-8c16-56b511c9842c",
   "metadata": {},
   "outputs": [
    {
     "name": "stdout",
     "output_type": "stream",
     "text": [
      "Given a cylinder with radius=3 and height=5:\n",
      "Total Surface Area: 150.80 square units\n",
      "Lateral Surface Area: 94.25 square units\n",
      "Area of each Base: 28.27 square units\n",
      "Volume: 141.37 cubic units\n"
     ]
    }
   ],
   "source": [
    "import math\n",
    "\n",
    "def calculate_cylinder_surface_area(radius, height):\n",
    "    # Calculate total surface area\n",
    "    total_surface_area = 2 * math.pi * radius * (radius + height)\n",
    "    \n",
    "    # Calculate lateral surface area\n",
    "    lateral_surface_area = 2 * math.pi * radius * height\n",
    "    \n",
    "    # Calculate area of each base\n",
    "    base_area = math.pi * radius ** 2\n",
    "    \n",
    "    return total_surface_area, lateral_surface_area, base_area\n",
    "\n",
    "def calculate_cylinder_volume(radius, height):\n",
    "    # Calculate volume of the cylinder\n",
    "    volume = math.pi * radius ** 2 * height\n",
    "    return volume\n",
    "\n",
    "# Example usage:\n",
    "radius = 3\n",
    "height = 5\n",
    "\n",
    "total_surface_area, lateral_surface_area, base_area = calculate_cylinder_surface_area(radius, height)\n",
    "volume = calculate_cylinder_volume(radius, height)\n",
    "\n",
    "print(f\"Given a cylinder with radius={radius} and height={height}:\")\n",
    "print(f\"Total Surface Area: {total_surface_area:.2f} square units\")\n",
    "print(f\"Lateral Surface Area: {lateral_surface_area:.2f} square units\")\n",
    "print(f\"Area of each Base: {base_area:.2f} square units\")\n",
    "print(f\"Volume: {volume:.2f} cubic units\")\n"
   ]
  },
  {
   "cell_type": "markdown",
   "id": "238f7047-1906-4f17-87ae-41a1e86b7663",
   "metadata": {},
   "source": [
    "### Q: 65 Write a Python program to returns sum of all divisors of a number\n"
   ]
  },
  {
   "cell_type": "code",
   "execution_count": 62,
   "id": "94c5d717-3acd-4eee-a97e-e50e417f0ac9",
   "metadata": {},
   "outputs": [
    {
     "name": "stdout",
     "output_type": "stream",
     "text": [
      "The sum of all divisors of 28 is: 56\n"
     ]
    }
   ],
   "source": [
    "def sum_of_divisors(n):\n",
    "    if n <= 0:\n",
    "        return 0\n",
    "    \n",
    "    sum_of_divisors = 0\n",
    "    for i in range(1, n + 1):\n",
    "        if n % i == 0:\n",
    "            sum_of_divisors += i\n",
    "    \n",
    "    return sum_of_divisors\n",
    "\n",
    "# Example usage:\n",
    "number = 28\n",
    "result = sum_of_divisors(number)\n",
    "print(f\"The sum of all divisors of {number} is: {result}\")\n"
   ]
  },
  {
   "cell_type": "markdown",
   "id": "6b5ac511-39e7-4422-9418-8bc89d8aad90",
   "metadata": {},
   "source": [
    "### Q: 66  Write a Python program to find the maximum and minimum numbers from the specified decimal numbers"
   ]
  },
  {
   "cell_type": "code",
   "execution_count": 63,
   "id": "4d8e1e3c-c523-416a-ace4-2e720489e518",
   "metadata": {},
   "outputs": [
    {
     "name": "stdout",
     "output_type": "stream",
     "text": [
      "Maximum number: 3.14\n",
      "Minimum number: 0.577\n"
     ]
    }
   ],
   "source": [
    "def find_max_min(numbers):\n",
    "    if not numbers:\n",
    "        return None, None  # Return None for both max and min if the list is empty\n",
    "    \n",
    "    maximum = max(numbers)\n",
    "    minimum = min(numbers)\n",
    "    \n",
    "    return maximum, minimum\n",
    "\n",
    "# Example usage:\n",
    "decimal_numbers = [3.14, 1.618, 2.718, 0.577, 1.0]\n",
    "max_num, min_num = find_max_min(decimal_numbers)\n",
    "\n",
    "if max_num is not None and min_num is not None:\n",
    "    print(f\"Maximum number: {max_num}\")\n",
    "    print(f\"Minimum number: {min_num}\")\n",
    "else:\n",
    "    print(\"List is empty\")\n"
   ]
  }
 ],
 "metadata": {
  "kernelspec": {
   "display_name": "Python 3 (ipykernel)",
   "language": "python",
   "name": "python3"
  },
  "language_info": {
   "codemirror_mode": {
    "name": "ipython",
    "version": 3
   },
   "file_extension": ".py",
   "mimetype": "text/x-python",
   "name": "python",
   "nbconvert_exporter": "python",
   "pygments_lexer": "ipython3",
   "version": "3.11.7"
  }
 },
 "nbformat": 4,
 "nbformat_minor": 5
}
