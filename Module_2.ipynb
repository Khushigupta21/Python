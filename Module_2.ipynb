{
 "cells": [
  {
   "cell_type": "markdown",
   "id": "da186e55-e48a-43dc-b1d1-4d76663954fb",
   "metadata": {},
   "source": [
    "# Python Assignments"
   ]
  },
  {
   "cell_type": "markdown",
   "id": "a051d130-3368-4f6e-ba54-122012105ba0",
   "metadata": {},
   "source": [
    "## Module-2"
   ]
  },
  {
   "cell_type": "markdown",
   "id": "867797ca-ffdf-425e-8f84-b3e0741b8091",
   "metadata": {},
   "source": [
    "### Q:1 Write a Python program to check if a number is positive, negative or zero."
   ]
  },
  {
   "cell_type": "code",
   "execution_count": 7,
   "id": "ee004685-470f-41b0-9b56-cc029efb9ad7",
   "metadata": {},
   "outputs": [
    {
     "name": "stdin",
     "output_type": "stream",
     "text": [
      "Enter a name:  -7\n"
     ]
    },
    {
     "name": "stdout",
     "output_type": "stream",
     "text": [
      "Number is Negative\n"
     ]
    }
   ],
   "source": [
    "f = float(input(\"Enter a name: \"))\n",
    "if f > 0:\n",
    "    print(\"Number is Positive \")\n",
    "elif f < 0:\n",
    "    print(\"Number is Negative\")\n",
    "elif f == 0 :\n",
    "    print(\"Number is Zero\")"
   ]
  },
  {
   "cell_type": "markdown",
   "id": "24676a61-ec25-4753-ab6b-4be88c9e0cd0",
   "metadata": {},
   "source": [
    "### Q:2 Write a Python program to get the Factorial number of given number."
   ]
  },
  {
   "cell_type": "code",
   "execution_count": 18,
   "id": "4a370edb-baaf-4bea-988f-ebdfebd07e10",
   "metadata": {},
   "outputs": [
    {
     "name": "stdin",
     "output_type": "stream",
     "text": [
      "Enter a Number to make a Factorial of it. 9\n"
     ]
    },
    {
     "name": "stdout",
     "output_type": "stream",
     "text": [
      "Factorial of 9 is 362880\n"
     ]
    }
   ],
   "source": [
    "num = int(input(\"Enter a Number to make a Factorial of it.\"))\n",
    "factorial = 1 \n",
    "if num==0 or num == 1 :\n",
    "    print(\"Factorial is 1\")\n",
    "else :\n",
    "    for i in range(1, num+1):\n",
    "        factorial *= i \n",
    "print(f\"Factorial of {num} is {factorial}\")\n",
    "    "
   ]
  },
  {
   "cell_type": "markdown",
   "id": "d29bcff9-9689-45ae-b8fb-ca7b1357b189",
   "metadata": {},
   "source": [
    "### Q:3 Write a Python program to get the Fibonacci series of given range."
   ]
  },
  {
   "cell_type": "code",
   "execution_count": 24,
   "id": "a9c02e0d-5e0f-4b85-ae25-2802ec5b625e",
   "metadata": {},
   "outputs": [
    {
     "name": "stdin",
     "output_type": "stream",
     "text": [
      "Enter the number of terms:  5\n"
     ]
    },
    {
     "name": "stdout",
     "output_type": "stream",
     "text": [
      "0 1 1 2 3 \n"
     ]
    }
   ],
   "source": [
    "# Get input from the user\n",
    "n = int(input(\"Enter the number of terms: \"))\n",
    "\n",
    "# Initialize the first two Fibonacci numbers\n",
    "a, b = 0, 1\n",
    "\n",
    "# Print the first two terms since they are known\n",
    "print(a, end=' ')\n",
    "print(b, end=' ')\n",
    "\n",
    "# Generate the Fibonacci series up to n-2 terms\n",
    "for _ in range(2, n):\n",
    "    c = a + b\n",
    "    print(c, end=' ')\n",
    "    a = b\n",
    "    b = c\n",
    "\n",
    "print()  # Print a new line after the series\n"
   ]
  },
  {
   "cell_type": "markdown",
   "id": "c8f28877-56ed-4a27-a947-a2c2fe06870b",
   "metadata": {},
   "source": [
    "### Q:4 How memory is managed in Python?\n"
   ]
  },
  {
   "cell_type": "markdown",
   "id": "52931378-9c02-45a6-81d3-06ee5137db0b",
   "metadata": {},
   "source": [
    "#### In Python memory allocation and deallocation method is automatic as the Python developers created a garbage collector for Python so that the user does not have to do manual garbage collection."
   ]
  },
  {
   "cell_type": "markdown",
   "id": "5c926679-2cab-4072-a5ff-55016e24f0b7",
   "metadata": {},
   "source": [
    "### Q:5 What is the purpose continue statement in python?\n"
   ]
  },
  {
   "cell_type": "markdown",
   "id": "6d23534d-5049-48b7-a487-3020d956940a",
   "metadata": {},
   "source": [
    "#### In Python, the continue statement is used inside loops (like for or while loops) to skip the rest of the code inside the loop for the current iteration and proceed to the next iteration. Its primary purpose is to selectively skip certain parts of a loop's code block based on a condition, without exiting the entire loop prematurely."
   ]
  },
  {
   "cell_type": "markdown",
   "id": "5cb9f604-cbde-4b63-99a5-e2ed9e0f73a8",
   "metadata": {},
   "source": [
    "###  Q:6 Write python program that swap two number with temp variable and without temp variable."
   ]
  },
  {
   "cell_type": "code",
   "execution_count": 10,
   "id": "2076562b-6fc4-455c-9c80-a490054ac7ed",
   "metadata": {},
   "outputs": [
    {
     "name": "stdin",
     "output_type": "stream",
     "text": [
      "Enter numbers for swaping number one :  56\n",
      "Number Two :  4\n"
     ]
    },
    {
     "name": "stdout",
     "output_type": "stream",
     "text": [
      "Numbers before swapping using temp variables are a = 56.0 and b = 4.0\n",
      "Numbers after swapping using temp variables are a = 4.0 and b = 56.0\n"
     ]
    }
   ],
   "source": [
    "''' swap two number with temp variable'''\n",
    "\n",
    "num1 = float(input(\"Enter numbers for swaping number one : \"))\n",
    "num2 = float(input(\"Number Two : \"))\n",
    "print(f\"Numbers before swapping using temp variables are a = {num1} and b = {num2}\")\n",
    "a = num1\n",
    "num1 = num2\n",
    "num2 = a\n",
    "print(f\"Numbers after swapping using temp variables are a = {num1} and b = {num2}\")\n"
   ]
  },
  {
   "cell_type": "code",
   "execution_count": 16,
   "id": "600c2735-0336-4638-8c4a-d4386ee1b979",
   "metadata": {},
   "outputs": [
    {
     "name": "stdin",
     "output_type": "stream",
     "text": [
      "Enter numbers for swaping number one :  2.4\n",
      "Number Two :  1.2\n"
     ]
    },
    {
     "name": "stdout",
     "output_type": "stream",
     "text": [
      "Numbers before swapping using temp variables are a = 2.4 and b = 1.2\n",
      "Numbers before swapping using temp variables are a = 1.2000000000000002 and b = 2.3999999999999995\n"
     ]
    }
   ],
   "source": [
    "''' swap two number without temp variable'''\n",
    "\n",
    "a = float(input(\"Enter numbers for swaping number one : \"))\n",
    "b = float(input(\"Number Two : \"))\n",
    "print(f\"Numbers before swapping using temp variables are a = {a} and b = {b}\")\n",
    "a=a+b\n",
    "b=a-b\n",
    "a=a-b\n",
    "print(f\"Numbers before swapping using temp variables are a = {a} and b = {b}\")\n"
   ]
  },
  {
   "cell_type": "markdown",
   "id": "db201132-3fc9-4c80-9ead-b8b8d1b5f7b0",
   "metadata": {},
   "source": [
    "### Q:7 Write a Python program to find whether a given number is even or odd,print out an appropriate message to the user."
   ]
  },
  {
   "cell_type": "code",
   "execution_count": 6,
   "id": "f4e21aff-6477-485a-9f94-d39627a8dac0",
   "metadata": {},
   "outputs": [
    {
     "name": "stdin",
     "output_type": "stream",
     "text": [
      "Enter number to check find odd or even : 12\n"
     ]
    },
    {
     "name": "stdout",
     "output_type": "stream",
     "text": [
      "Number 12 is even\n"
     ]
    }
   ],
   "source": [
    "a = int(input(\"Enter number to check find odd or even :\"))\n",
    "if a % 2 == 0:\n",
    "    print (f\"Number {a} is even\")\n",
    "else:\n",
    "     print (f\"Number {a} is odd\")"
   ]
  },
  {
   "cell_type": "markdown",
   "id": "0ac3018b-fff4-412d-ac0b-40dae0867bc5",
   "metadata": {},
   "source": [
    "### Q:8 Write a Python program to test whether a passed letter is a vowel or not.\n"
   ]
  },
  {
   "cell_type": "code",
   "execution_count": 22,
   "id": "7bc1cd08-2ede-4a55-aa47-0e886398be6b",
   "metadata": {},
   "outputs": [
    {
     "name": "stdin",
     "output_type": "stream",
     "text": [
      "Enter a Alphabet to test whether a passed letter is a vowel or not. A\n"
     ]
    },
    {
     "name": "stdout",
     "output_type": "stream",
     "text": [
      "Vowel\n"
     ]
    }
   ],
   "source": [
    "letter = str(input(\"Enter a Alphabet to test whether a passed letter is a vowel or not.\"))\n",
    "vowels = ['a', 'e', 'i', 'o', 'u']\n",
    "    # Convert letter to lowercase to handle both uppercase and lowercase input\n",
    "letter = letter.lower()\n",
    "if letter in vowels:\n",
    "    print(\"Vowel\")\n",
    "else:\n",
    "    print(\"Non Vowel\")\n",
    "    "
   ]
  },
  {
   "cell_type": "markdown",
   "id": "f157c8be-96b8-4792-b1a2-a15b6705b0e2",
   "metadata": {},
   "source": [
    "### Q:9 Write a Python program to sum of three given integers. However, if two values are equal sum will be zero."
   ]
  },
  {
   "cell_type": "code",
   "execution_count": 28,
   "id": "597c142a-8e7d-40a1-90b5-99b245ac4596",
   "metadata": {},
   "outputs": [
    {
     "name": "stdin",
     "output_type": "stream",
     "text": [
      "Enter one interger 9\n",
      "Enter two interger 0\n",
      "Enter three interger 8\n"
     ]
    },
    {
     "name": "stdout",
     "output_type": "stream",
     "text": [
      "sum of three given integers are 17\n"
     ]
    }
   ],
   "source": [
    "n1 = int(input(\"Enter one interger\"))\n",
    "n2 = int(input(\"Enter two interger\"))\n",
    "n3 = int(input(\"Enter three interger\"))\n",
    "if n1==n2 or n2 == n3 or n1==n3:\n",
    "    print(\"Two Numbers are equal, Try Again\")\n",
    "else :\n",
    "    t = n1 + n2 + n3\n",
    "    print(\"sum of three given integers are\", t)"
   ]
  },
  {
   "cell_type": "markdown",
   "id": "cea11c30-0adc-46e7-9cec-bea942ceeb58",
   "metadata": {},
   "source": [
    "### Q:10 Write a Python program that will return true if the two given integer values are equal or their sum or difference is 5."
   ]
  },
  {
   "cell_type": "code",
   "execution_count": 36,
   "id": "708b340b-a72f-4a62-ad0e-38c9d2940032",
   "metadata": {},
   "outputs": [
    {
     "name": "stdin",
     "output_type": "stream",
     "text": [
      "Enter interger one :  4\n",
      "Enter interger two :  3\n"
     ]
    },
    {
     "name": "stdout",
     "output_type": "stream",
     "text": [
      "False\n"
     ]
    }
   ],
   "source": [
    "a = int(input(\"Enter interger one : \"))\n",
    "b = int(input(\"Enter interger two : \"))\n",
    "if a==b or a+b==5 or a-b==5 :\n",
    "    print(\"True\")\n",
    "else :\n",
    "    print(\"False\")"
   ]
  },
  {
   "cell_type": "markdown",
   "id": "6695df84-08e3-4743-9979-1eb1aaff0843",
   "metadata": {},
   "source": [
    "### Q:11 Write a python program to sum of the first n positive integers."
   ]
  },
  {
   "cell_type": "code",
   "execution_count": 3,
   "id": "5d38d320-71be-4d31-b724-83ba4717c305",
   "metadata": {},
   "outputs": [
    {
     "name": "stdin",
     "output_type": "stream",
     "text": [
      "Enter a number 9\n"
     ]
    },
    {
     "name": "stdout",
     "output_type": "stream",
     "text": [
      "45\n"
     ]
    }
   ],
   "source": [
    "num = int(input(\"Enter a number\"))\n",
    "sum = 0\n",
    "for a in range(1,num+1) :\n",
    "    sum += a\n",
    "print (sum)"
   ]
  },
  {
   "cell_type": "markdown",
   "id": "72121305-99ec-4c11-9e55-3c3ca23e6d48",
   "metadata": {},
   "source": [
    "### Q:12 Write a Python program to calculate the length of a string"
   ]
  },
  {
   "cell_type": "code",
   "execution_count": 42,
   "id": "20e98447-8fe3-4ac0-9392-3e7f54d5c9d5",
   "metadata": {},
   "outputs": [
    {
     "name": "stdin",
     "output_type": "stream",
     "text": [
      "Enter a String 89j\n"
     ]
    },
    {
     "name": "stdout",
     "output_type": "stream",
     "text": [
      "length of string is 3\n"
     ]
    }
   ],
   "source": [
    "a = str(input(\"Enter a String\"))\n",
    "print(\"length of string is\",len(a))"
   ]
  },
  {
   "cell_type": "markdown",
   "id": "3b2e4542-9fb8-41ac-ae6f-6f763e5de17a",
   "metadata": {},
   "source": [
    "### Q:13 Write a Python program to count the number of characters (character frequency) in a string"
   ]
  },
  {
   "cell_type": "code",
   "execution_count": 46,
   "id": "b4525f2e-3f4b-4935-a427-7fdb6e24e55d",
   "metadata": {},
   "outputs": [
    {
     "name": "stdin",
     "output_type": "stream",
     "text": [
      "Enter a string fdftrdd\n",
      "Enter a character you want to count 7\n"
     ]
    },
    {
     "name": "stdout",
     "output_type": "stream",
     "text": [
      "The character 7 comes 0 times\n"
     ]
    }
   ],
   "source": [
    "a = str(input(\"Enter a string\"))\n",
    "b = str(input(\"Enter a character you want to count\"))\n",
    "print(f\"The character {b} comes {a.count(b)} times\")"
   ]
  },
  {
   "cell_type": "markdown",
   "id": "f520926e-1189-4a35-9169-327bf4cfd31a",
   "metadata": {},
   "source": [
    "### Q:14 What are negative indexes and why are they used?"
   ]
  },
  {
   "cell_type": "markdown",
   "id": "840932d0-e5ae-4590-ab9b-f843948fd081",
   "metadata": {},
   "source": [
    "#### Negative indexes refer to a method of indexing sequences (like lists or strings) in programming languages where counting starts from the end of the sequence rather than the beginning.\n",
    "#### negative indexes used to accessing elements from the end"
   ]
  },
  {
   "cell_type": "markdown",
   "id": "1ed61e3f-847e-4c76-ab48-5264e33f7899",
   "metadata": {},
   "source": [
    "### Q:15 Write a Python program to count occurrences of a substring in a string."
   ]
  },
  {
   "cell_type": "code",
   "execution_count": 7,
   "id": "8653fea8-d737-4b03-854a-0061a95dc469",
   "metadata": {},
   "outputs": [
    {
     "name": "stdout",
     "output_type": "stream",
     "text": [
      "{'h': 4, 'i': 3, ' ': 3, 'e': 1, 'l': 2, 'o': 1}\n"
     ]
    }
   ],
   "source": [
    "w=\"hi hi hello hi\"\n",
    "m={}\n",
    "for n in w:\n",
    "    if n in m:\n",
    "        m[n]+=1\n",
    "    else:\n",
    "        m[n]=1\n",
    "print(m)"
   ]
  },
  {
   "cell_type": "markdown",
   "id": "27629603-1a14-41fc-82e2-ad873471b2d6",
   "metadata": {},
   "source": [
    "### Q:16 Write a Python program to count the occurrences of each word in a given sentence."
   ]
  },
  {
   "cell_type": "code",
   "execution_count": 2,
   "id": "45786792-e127-4eec-a78a-ac132602b233",
   "metadata": {},
   "outputs": [
    {
     "name": "stdout",
     "output_type": "stream",
     "text": [
      "Word counts: {'hello': 2, 'world': 1, 'python': 1, 'this': 1, 'is': 1, 'a': 1, 'sentence': 1}\n"
     ]
    }
   ],
   "source": [
    "def count_words(sentence):\n",
    "    # Remove punctuation marks\n",
    "    punctuation = '''!()-[]{};:'\"\\,<>./?@#$%^&*_~'''\n",
    "    no_punctuation = \"\"\n",
    "    for char in sentence:\n",
    "        if char not in punctuation:\n",
    "            no_punctuation = no_punctuation + char\n",
    "\n",
    "    # Convert all characters to lowercase\n",
    "    sentence = no_punctuation.lower()\n",
    "\n",
    "    # Split the sentence into words\n",
    "    words = sentence.split()\n",
    "\n",
    "    # Initialize an empty dictionary to store word counts\n",
    "    word_counts = {}\n",
    "\n",
    "    # Count each word\n",
    "    for word in words:\n",
    "        if word in word_counts:\n",
    "            word_counts[word] += 1\n",
    "        else:\n",
    "            word_counts[word] = 1\n",
    "\n",
    "    return word_counts\n",
    "\n",
    "# Example usage:\n",
    "sentence = \"Hello world, hello Python! This is a sentence.\"\n",
    "word_counts = count_words(sentence)\n",
    "print(\"Word counts:\", word_counts)\n"
   ]
  },
  {
   "cell_type": "markdown",
   "id": "06822781-34a5-4a6a-b0ae-301002a77a22",
   "metadata": {},
   "source": [
    "### Q:17 Write a Python program to get a single string from two given strings, separated by a space and swap the first two characters of each string."
   ]
  },
  {
   "cell_type": "code",
   "execution_count": 8,
   "id": "3fb925fb-8434-4a81-8f22-cf5ef36f7ada",
   "metadata": {},
   "outputs": [
    {
     "name": "stdin",
     "output_type": "stream",
     "text": [
      "Enter a String 1 :  99\n",
      "Enter a String 2 : 88\n"
     ]
    },
    {
     "name": "stdout",
     "output_type": "stream",
     "text": [
      "99 88\n",
      "88\n",
      "99\n"
     ]
    }
   ],
   "source": [
    "str1 = input(\"Enter a String 1 : \")\n",
    "str2 = input (\"Enter a String 2 :\")\n",
    "sin= print(str1+\" \"+str2)\n",
    "swap1=str2[:2]+str1[2:]\n",
    "swap2=str1[:2]+str2[2:]\n",
    "print(swap1)\n",
    "print(swap2)"
   ]
  },
  {
   "cell_type": "markdown",
   "id": "d8f2b6bc-d3b8-4cb6-846f-21a3985f7c3c",
   "metadata": {},
   "source": [
    "### Q:18 Write a Python program to add 'ing' at the end of a given string (length should be at least 3). If the given string already ends with 'ing' then add 'ly' instead if the string length of the given string is less than 3, leave it unchanged."
   ]
  },
  {
   "cell_type": "code",
   "execution_count": 8,
   "id": "3aa51c70-4323-44ee-8352-a2de2be706dd",
   "metadata": {},
   "outputs": [
    {
     "name": "stdin",
     "output_type": "stream",
     "text": [
      "Enter a String, length should be at least 3: dargeling\n"
     ]
    },
    {
     "name": "stdout",
     "output_type": "stream",
     "text": [
      "LEE bhai solution  dargelly\n"
     ]
    }
   ],
   "source": [
    "name = input(\"Enter a String, length should be at least 3:\")\n",
    "if len(name)>=3 and name[-1]!= \"g\" and \"G\" :\n",
    "    print(\"Thik se string enter kariye: \",name+ \"ing\")\n",
    "elif name.endswith(\"ing\")== True :\n",
    "    print(\"LEE bhai solution \",name.replace(\"ing\",\"ly\"))\n",
    "else:\n",
    "    print(\"AS IT WAS \",name)"
   ]
  },
  {
   "cell_type": "markdown",
   "id": "e236a11d-f09a-4368-8b12-c2618c3bb199",
   "metadata": {},
   "source": [
    "### Q:19 Write a Python program to find the first appearance of the substring 'not' and 'poor' from a given string, if 'not' follows the 'poor', replace the whole 'not'...'poor'substring with 'good'. Return the resulting string. Write a Python function that takes a list of words and returns the length of the longest one"
   ]
  },
  {
   "cell_type": "code",
   "execution_count": 9,
   "id": "f510483c-771b-463e-9e53-76cb87fb2f06",
   "metadata": {},
   "outputs": [],
   "source": [
    "def replace_not_poor(s):\n",
    "    # Find the index of 'not' and 'poor'\n",
    "    index_not = s.find('not')\n",
    "    index_poor = s.find('poor')\n",
    "\n",
    "    # Check if both 'not' and 'poor' are found and 'not' appears before 'poor'\n",
    "    if index_not != -1 and index_poor != -1 and index_not < index_poor:\n",
    "        # Replace 'not'...'poor' substring with 'good'\n",
    "        return s[:index_not] + 'good' + s[index_poor + 4:]\n",
    "    else:\n",
    "        return s\n",
    "\n",
    "# Test the function\n",
    "    print(replace_not_poor(input(\"enter :\")))"
   ]
  },
  {
   "cell_type": "markdown",
   "id": "6562873a-1dc8-4ac8-ae2b-3860d3f70cb4",
   "metadata": {},
   "source": [
    "### Q:20 Write a Python function to reverses a string if its length is a multiple of 4."
   ]
  },
  {
   "cell_type": "code",
   "execution_count": 16,
   "id": "82bc641b-e056-47ec-828c-02550068281f",
   "metadata": {},
   "outputs": [
    {
     "name": "stdin",
     "output_type": "stream",
     "text": [
      "Enter a String to Reverse:  12421\n"
     ]
    },
    {
     "name": "stdout",
     "output_type": "stream",
     "text": [
      "It will remain as it is :  12421\n"
     ]
    }
   ],
   "source": [
    "box = input(\"Enter a String to Reverse: \")\n",
    "if len(box) % 4 == 0 :\n",
    "    print(box[::-1])\n",
    "else:\n",
    "    print(\"It will remain as it is : \",box)"
   ]
  },
  {
   "cell_type": "markdown",
   "id": "4f343912-3da2-4dcf-995d-e660031c28d8",
   "metadata": {},
   "source": [
    "### Q:21 Write a Python program to get a string made of the first 2 and the last 2 chars from a given a string. If the string length is less than 2, return instead of the empty string Sample String: w3resource' oExpected Result: 'w3ce' o Sample String: 'w3' o Expected Result:'w3w3' o Sample String: ' w' o Expected Result: Empty String"
   ]
  },
  {
   "cell_type": "code",
   "execution_count": 22,
   "id": "25481c03-ea0c-44d3-bbaf-38ca0df33cbe",
   "metadata": {},
   "outputs": [
    {
     "name": "stdout",
     "output_type": "stream",
     "text": [
      "w3ce\n",
      "w3w3\n",
      "\n"
     ]
    }
   ],
   "source": [
    "def string_both_ends(str):\n",
    "    if len(str) < 2:\n",
    "        return \"\"\n",
    "    return str[:2] + str[-2:]\n",
    "\n",
    "# Test the function\n",
    "print(string_both_ends('w3resource'))\n",
    "print(string_both_ends('w3'))\n",
    "print(string_both_ends('w'))"
   ]
  },
  {
   "cell_type": "markdown",
   "id": "ad96d69e-0b2b-438e-bb37-9a7fb932fa31",
   "metadata": {},
   "source": [
    "### Q:22 Write a Python function to insert a string in the middle of a string."
   ]
  },
  {
   "cell_type": "code",
   "execution_count": 1,
   "id": "4037dbb0-5027-4b09-9621-8cac48945b20",
   "metadata": {},
   "outputs": [
    {
     "name": "stdin",
     "output_type": "stream",
     "text": [
      "Enter whatever you want to insert in middle of string : khu\n"
     ]
    },
    {
     "name": "stdout",
     "output_type": "stream",
     "text": [
      "Hello khu where you have been??\n"
     ]
    }
   ],
   "source": [
    "def mid(user):\n",
    "    text=f\"Hello {user} where you have been??\"\n",
    "    print(text)\n",
    "\n",
    "mid(input(\"Enter whatever you want to insert in middle of string :\"))"
   ]
  }
 ],
 "metadata": {
  "kernelspec": {
   "display_name": "Python 3 (ipykernel)",
   "language": "python",
   "name": "python3"
  },
  "language_info": {
   "codemirror_mode": {
    "name": "ipython",
    "version": 3
   },
   "file_extension": ".py",
   "mimetype": "text/x-python",
   "name": "python",
   "nbconvert_exporter": "python",
   "pygments_lexer": "ipython3",
   "version": "3.11.7"
  }
 },
 "nbformat": 4,
 "nbformat_minor": 5
}
